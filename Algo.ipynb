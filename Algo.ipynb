{
 "cells": [
  {
   "cell_type": "code",
   "execution_count": 1,
   "metadata": {},
   "outputs": [
    {
     "name": "stdout",
     "output_type": "stream",
     "text": [
      "hello\n"
     ]
    }
   ],
   "source": [
    "print('hello')"
   ]
  },
  {
   "cell_type": "markdown",
   "metadata": {},
   "source": [
    "# What is an Algorithm? \n",
    "\n",
    "An algorithm is a set of instructions to complete a task. This task could range from anything such as sorting to figuring our how to build your AI system for the emeny npcs should path find to your player character in your game. \n",
    "\n",
    "# Okay, But why is it so important? \n",
    "\n",
    "## Right usecase! \n",
    "\n",
    "So imagine you have to search a student's name in your campus system. You could go name by name in the excel sheet or you could just use CTRL+F to look for his name. Both would give you the same results, but the way which you handled that task is way different and the time and resources which you spent for that task is also way different. That's what having the right algorithm for the right task allows you to perform. \n",
    "\n",
    "## DS Specific! \n",
    "\n",
    "Different DS have different Algorthims to perform the same task but in various ways with a lot of differences in the time and memory each algorithm uses. So based on what DS you are using, you could implement any known algorithm that is proven to work or create your own from scratch (or you could refer other similar algorithms and draw inspiration from that). But for all that to happen, you gotta know your algorithms first. There are different types of algorithms such as recurvise/backtracking, dynamic and much much more. So, let's get to that!!!"
   ]
  },
  {
   "cell_type": "markdown",
   "metadata": {},
   "source": [
    "# Linear Search: Searching Algorithms\n",
    "\n",
    "Starting with the easiest possible algorithms to look for an value in a list/array. You start off your search from the first element and then go through the entire list till you reach the last element and if you were to encounter the value that you're looking for, you return the index of that value (or True/False if you just want to make sure that if that value is present in that array).\n",
    "\n",
    "## Use Case: \n",
    "\n",
    "For any given DS that has a sequence of values, this method should work. But since you need to loop through the entire list, this works best for short set of values. \n",
    "\n",
    "In the best case: You find the element you're looking for in the first index and you only need to check and compare once. Time complexity -> O(1)\n",
    "\n",
    "In the worse case: You might find the element you're looking for in the last index or you might not even find that value, so you gotta loop through the whole sequence. Time Complexity -> O(N); N -> Size of the sequence of values. \n",
    "\n",
    "(Note: What is the whole time complexity mean? Well, it explains how you algorithm performs as you increase the size of the sequence which you're using and this acts as a comparing factor to see which algorithm takes however amount of time. \n",
    "\n",
    "Ranging from the best to the worse. \n",
    "O(1) -> This mean the time it takes for the algorithm is constant regardless of the size of the list. (Constant Time)\n",
    "O(logN) -> This mean the time it takes for the algorithm scales with log(N). (Log Time)\n",
    "O(N) -> This mean the time it takes for the algorithm scales linearly with the variable N (This variable mostly will be size of the sequence). (Linear Time)\n",
    "O(N * logN) -> This mean the time it takes for the algorithm scales at the rate of N*Log(N). (Linear-Log Time)\n",
    "O(N ^ 2) -> This mean the time it takes for the algorithm scales with square value of N. (Quadratic)\n",
    "O(2 ^ N) -> This mean the time it takes for the algorithm scales exponentially with the value of N. (Exponential Time)\n",
    "O(N!) -> This mean the time it takes for the algorithm scales with Factorial Value of N. (Factorial Time)  \n",
    "\n",
    "There's another time complexity called polynomial time. which goes a bit like this: O(N ^ x) where the N is raised to the value of x.)\n",
    "\n",
    "## Let's look at the implemenation of Linear Search"
   ]
  },
  {
   "cell_type": "code",
   "execution_count": 3,
   "metadata": {},
   "outputs": [
    {
     "data": {
      "text/plain": [
       "8"
      ]
     },
     "execution_count": 3,
     "metadata": {},
     "output_type": "execute_result"
    }
   ],
   "source": [
    "def linearSearch(arr,key):\n",
    "    for i in range(len(arr)): #You loop through the entire list. \n",
    "        if(arr[i] == key): #And checking for the key\n",
    "            return i #And if found, you are ending the loop early. You return the index of the value. \n",
    "    return -1 #And if it didn't return when you loop through the whole list, then the value isn't present. Thus, returning -1. \n",
    "linearSearch([1,2,3,4,5,6,7,8,9],9)"
   ]
  },
  {
   "cell_type": "markdown",
   "metadata": {},
   "source": [
    "# Binary Search: Searching Algorithms\n",
    "\n",
    "This is another type of Searching Algorithm which works only on sorted sequence of values. So when given a key to look for it. It will divide the sequence into two halves and check the middle value. If the key is the middle value, you got your answer there! If it's not the middle value, you're going to check if the key is greater than the middle value, if it is, then your answer should in the right half of the sequence (Since it's all sorted values). If not, then your answer should be in the left half of the sequence! \n",
    "\n",
    "You move left/right according to the answer you got when comparing the middle value and then find the middle value again in your left/right half and compare it with the key again. If key == Middle value; you got the answer. If not, see if it the key is greater or lesser than the middle value and then move to the next half! \n",
    "\n",
    "When dividing your input sequence into parts and then executing a set of instructions in those parts. It's called Divide And Conquer! Because, you know, you are dividing the input sequence and then working on it! \n",
    "\n",
    "## Use Case: \n",
    "\n",
    "For any given DS that has a sequence of values *which is sorted*, this method should work. You are dividing the sequence into halves each time you move, thus the amount of comparions you have to do will halve with each time you move. And when you do move, you only compare the middle element, not every element in that halved sequence. \n",
    "\n",
    "In the best case: You find the element you're looking for in the middle index and you only need to check middle value in your first time and compare once. Time complexity -> O(1)\n",
    "\n",
    "In the worse case: You might not even find that value, so you gotta divide the sequence till the size of the sequences go to zero. Time Complexity -> O(Log<sub>2</sub>n); Log<sub>2</sub>n -> As you are dividing it and searching; thus the log and then it's divided into two, thus the two part!\n"
   ]
  },
  {
   "cell_type": "code",
   "execution_count": 31,
   "metadata": {},
   "outputs": [
    {
     "name": "stdout",
     "output_type": "stream",
     "text": [
      "---\n",
      "0 8\n",
      "5 8\n",
      "---\n",
      "5 8\n",
      "7 8\n",
      "---\n",
      "7 8\n",
      "8 8\n",
      "---\n",
      "8 8\n",
      "9 8\n"
     ]
    },
    {
     "data": {
      "text/plain": [
       "-1"
      ]
     },
     "execution_count": 31,
     "metadata": {},
     "output_type": "execute_result"
    }
   ],
   "source": [
    "def binarySearch(arr, key):\n",
    "    l, r = 0, len(arr) - 1 #Figuring the left and right of the arr. These value denote indexes of the arr. \n",
    "    while l <= r: #If the left variable is indeed to the left size of the right value. This is the same as the finding the len(arr) \n",
    "        #but for that subset of the sequence\n",
    "        print('---')\n",
    "        print(l,r)\n",
    "        mid = (l + r) // 2 #And you're figuring out the middle value. \n",
    "        if arr[mid] == key: #If arr[mid] == key, then return the mid right away!\n",
    "            return mid\n",
    "        elif arr[mid] > key: #And if not, you are comparing how the element in the mid index is greater or lower. \n",
    "            r = mid - 1 #And accordingly, you are moving the right or left value. \n",
    "        else:\n",
    "            l = mid + 1\n",
    "        print(l,r) #I've added the print statements to see how the left and right values are changing as we divide and go through the sequence. \n",
    "    return -1 #If didn't find the key untill the length of divided subsequences are 0, then return -1\n",
    "\n",
    "binarySearch([1,2,3,4,5,6,7,8,9],10)"
   ]
  },
  {
   "cell_type": "code",
   "execution_count": 30,
   "metadata": {},
   "outputs": [
    {
     "data": {
      "text/plain": [
       "8"
      ]
     },
     "execution_count": 30,
     "metadata": {},
     "output_type": "execute_result"
    }
   ],
   "source": [
    "#This is cleaner code, but might not be easier to understand. \n",
    "\n",
    "def Bin_Search(arr, key):\n",
    "    if len(arr) == 0:\n",
    "        return -1\n",
    "    mid = (len(arr) - 1)//2\n",
    "    if arr[mid] == key:\n",
    "        return mid \n",
    "    if arr[mid] < key:\n",
    "        return (mid+1) + Bin_Search(arr[mid+1:], key)\n",
    "    else:\n",
    "        return Bin_Search(arr[:mid], key)\n",
    "    \n",
    "Bin_Search([1,2,3,4,5,6,7,8,9],9)"
   ]
  }
 ],
 "metadata": {
  "kernelspec": {
   "display_name": "base",
   "language": "python",
   "name": "python3"
  },
  "language_info": {
   "codemirror_mode": {
    "name": "ipython",
    "version": 3
   },
   "file_extension": ".py",
   "mimetype": "text/x-python",
   "name": "python",
   "nbconvert_exporter": "python",
   "pygments_lexer": "ipython3",
   "version": "3.9.13"
  }
 },
 "nbformat": 4,
 "nbformat_minor": 2
}
