{
 "cells": [
  {
   "cell_type": "code",
   "execution_count": 3,
   "metadata": {},
   "outputs": [
    {
     "name": "stdout",
     "output_type": "stream",
     "text": [
      "Hello\n"
     ]
    }
   ],
   "source": [
    "print(\"Hello\")"
   ]
  },
  {
   "cell_type": "markdown",
   "metadata": {},
   "source": [
    "# What is a Data Structure?\n",
    "\n",
    "In CS, Data is king and when dealing with large number of number, you need a way to safely store them in such a way that you can access them quickly. Thus, people figured out various ways to store, fetch and edit data in the quickest way possible. It helps us manage our computing resources as effective as possible. \n",
    "\n",
    "## Okay, but why is it so important? \n",
    "\n",
    "### Effective:\n",
    "Using Data Structures to store data is very effective and since certain tasks will perform way better when handled using certain data structures. For example, if you were to handle the marks of all the students in your entire university and have to find the average mark of your university. Having the answer sheets piled up on your table would be very bulky to manage and calcalute the marks. Whereas just having the ID of the student and their marks on an excel sheet would be far better. In this task, the data stored in all of those answer sheets can be used to find the average. But differnt way of storing the same information will aid the task to be completed in mere secounds.  \n",
    "\n",
    "Moreover, you can save your energy and time (i.e resources) when using the right data structure for the right task.\n",
    "\n",
    "## Scalability: \n",
    "Imainge the same situtaion of finding the average. What if 300 students didn't attend the exam and then university conducted retest for them and then you have another 300 answer sheets on your desk to calcalute, wouldn't that be frustrating? If using excel, it's just 300 more rows and you can still use the same method and complete the task. So when your data is getting bigger and bigger over them, the right data structure should still be able to handle the task as effective as possible. \n",
    "\n",
    "## Real World Application: \n",
    "Every application and process in any of your device would have some sort of data in them and all of those data are stored by some structured method. Finding which data structure to use for which task is cruical because it could end up making a huge difference as we learnt for the example. Thus, learning the pros, cons and the implementation along with their applications of the most used data structures is necessary. "
   ]
  },
  {
   "cell_type": "markdown",
   "metadata": {},
   "source": [
    "# Stack"
   ]
  },
  {
   "cell_type": "markdown",
   "metadata": {},
   "source": [
    "## What is it? "
   ]
  },
  {
   "cell_type": "markdown",
   "metadata": {},
   "source": [
    "Imagine a stack of books on your table right now. Each book is an element in your stack, and each element have some infomation/data in them. \n",
    "\n",
    "Now, if you were to add a book, you're going to add it to the top. And if you're going to remove a book, you're going to remove from the top. \n",
    "\n",
    "So if there is three books in the stack, BookA, BookB, BookC. If you want to add BookD. the stack would be something like this:\n",
    "\n",
    "BookD\n",
    "BookC\n",
    "BookB\n",
    "BookA\n",
    "\n",
    "and if you want to take the BookB, since all of the books very heavy, you're going to remove the BookD, BookC and then take BookB.\n",
    "\n",
    "The most recent book BookD gets removed first in a stack. Thus the name Last In, First Out is coined. \n",
    "\n",
    "The book that enters the stack last will get exited first cuz there is only way of enter, which is the top. \n",
    "\n",
    "## What can you do with this? \n",
    "\n",
    "Well, you can add an element, and remove an element the stack. You can also take a peek at the top most element in the stack and check if the stack is empty or is all filled up. \n",
    "\n",
    "## What can you actually do with this? \n",
    "\n",
    "A whole concept called recusive functions is based on stacks. \n",
    "\n",
    "You can find the edits made to a file and store them in a stack and use it to undo/redo the changes. (Try to visualize how it would work.)\n",
    "\n",
    "Another task called InFix and PostFix conversion can be done.\n",
    "\n",
    "and so much more, some which we will see in the applications of data structure!\n",
    "\n",
    "## Now lets get to the implementation!"
   ]
  },
  {
   "cell_type": "code",
   "execution_count": 21,
   "metadata": {},
   "outputs": [],
   "source": [
    "#The below is the implementation of stack in Python. Let me explain how it works!\n",
    "\n",
    "class stackError(Exception):\n",
    "    # to handle errors in the class below\n",
    "    pass\n",
    "\n",
    "class STACK():\n",
    "    def __init__(self,limit):\n",
    "        self.stack=[]\n",
    "        self.limit = limit\n",
    "        self.top=-1\n",
    "        #So this is the __init__ function, will figure out what is the max limit of elements that our stack can handle and we are setting up the parameters here to use later. \n",
    "        #stack -> have all of the elements in our stack. \n",
    "        #limit -> has the max limit of elements which we can have in our stack, which is given by the user. \n",
    "        #top -> it's a counter which keeps track on where is our top most element is. \n",
    "    \n",
    "    def CheckEmpty(self): #Here, we're trying to check the length is 0 and if so, it will return True, if not, it'll return False. \n",
    "        return len(self.stack) == 0\n",
    "    \n",
    "    def CheckFull(self): #Since we know the limit of the stack, we can do a simple if statement and return if our stack is full or not.\n",
    "        return len(self.stack) == self.limit\n",
    "    \n",
    "    #How does the self.stack work? When take that stack of book example and instead of it being from the bottom to top, flip it onto it's side and we're going from left to right. \n",
    "    #(Like a bookshelf slowly getting filled up form the left to right. But you're restricted to only take the right most book because we're using a stack but visualizing it differently) \n",
    "    #DEVNOTE: Include images here to better explain.  \n",
    "     \n",
    "    def Push(self,item): #Here, lets push an element into the stack (adding an element into the stack) \n",
    "        # We are getting the item which we're going to add into the stack as a parameter. \n",
    "        \n",
    "        if not self.CheckFull(): #and making sure that the stack isn't full\n",
    "            self.stack.append(item) # and appending the item to the stack (adding to the right.)\n",
    "            self.top +=1 #and making sure that the top is tracking the rightmost book in the bookshelf. \n",
    "            print(f\"Pushed Item %s; Top-Position now: %d\"%(str(item),self.top)) \n",
    "        else: #If the stack is full, we are going to raise an error. \n",
    "            raise stackError(\"Can't push; The Stack is full\")\n",
    "    \n",
    "    def Pop(self): #Here, lets pop an element from the stack (removing an element from the stack)\n",
    "        if self.CheckEmpty(): #making sure that the stack isn't empty and if it is, raising an error\n",
    "            raise stackError(\"Can't pop; Empty Stack\") \n",
    "        else:\n",
    "            val = self.stack.pop() #here, we are removing the right most book for the bookshelf and changing the top variable to track the bookshelf correctly\n",
    "            self.top -= 1\n",
    "            print(f\"Popped Item from Stack! Top-Position now: %d\"%(self.top))\n",
    "            return val\n",
    "            \n",
    "    def Peek(self): #Here, we're just looking at the top element in our stack\n",
    "        return self.stack[self.top]\n",
    "            \n",
    "    #The below two function are just helper functions which will makes our understanding easier. \n",
    "    def __str__(self):\n",
    "        out = \"\\n\".join(str(i) for i in self.stack[::-1])\n",
    "        return out\n",
    "    \n",
    "    def __getitem__(self, index):\n",
    "        return self.stack[::-1][index]"
   ]
  },
  {
   "cell_type": "markdown",
   "metadata": {},
   "source": [
    "## Now let's use this Class and see how it works!"
   ]
  },
  {
   "cell_type": "code",
   "execution_count": 23,
   "metadata": {},
   "outputs": [
    {
     "name": "stdout",
     "output_type": "stream",
     "text": [
      "5\n"
     ]
    }
   ],
   "source": [
    "#Let's create the stack \n",
    "li = list(\"Hello\")\n",
    "stack = STACK(len(li))\n",
    "print(stack.limit) "
   ]
  },
  {
   "cell_type": "code",
   "execution_count": 26,
   "metadata": {},
   "outputs": [
    {
     "name": "stdout",
     "output_type": "stream",
     "text": [
      "Pushed Item H; Top-Position now: 0\n",
      "Pushed Item e; Top-Position now: 1\n",
      "Pushed Item l; Top-Position now: 2\n",
      "Pushed Item l; Top-Position now: 3\n",
      "Pushed Item o; Top-Position now: 4\n",
      "o\n",
      "l\n",
      "l\n",
      "e\n",
      "H\n",
      "['l', 'e', 'H']\n"
     ]
    }
   ],
   "source": [
    "#We are going to store the characters of the str variable li in our stack\n",
    "for i in li: \n",
    "    stack.Push(i)\n",
    "#Now lets take a look at our stack\n",
    "print(stack)"
   ]
  },
  {
   "cell_type": "markdown",
   "metadata": {},
   "source": [
    "As you can see, the latest character is at the top and the first character (i.e H) is at the buttom"
   ]
  },
  {
   "cell_type": "code",
   "execution_count": 27,
   "metadata": {},
   "outputs": [
    {
     "name": "stdout",
     "output_type": "stream",
     "text": [
      "['l', 'e', 'H']\n"
     ]
    }
   ],
   "source": [
    "#Note, you can display a subset of the stack without removing them like this!\n",
    "print(stack[2:])"
   ]
  },
  {
   "cell_type": "code",
   "execution_count": 17,
   "metadata": {},
   "outputs": [
    {
     "name": "stdout",
     "output_type": "stream",
     "text": [
      "The stack is Full!\n",
      "The top eleement is! o\n",
      "Now, about to push more elements into a full stack, let's see what happens\n"
     ]
    },
    {
     "ename": "stackError",
     "evalue": "Can't push; The Stack is full",
     "output_type": "error",
     "traceback": [
      "\u001b[1;31m---------------------------------------------------------------------------\u001b[0m",
      "\u001b[1;31mstackError\u001b[0m                                Traceback (most recent call last)",
      "Cell \u001b[1;32mIn[17], line 6\u001b[0m\n\u001b[0;32m      4\u001b[0m     \u001b[38;5;28mprint\u001b[39m(\u001b[38;5;124mf\u001b[39m\u001b[38;5;124m'\u001b[39m\u001b[38;5;124mThe top eleement is! \u001b[39m\u001b[38;5;132;01m{\u001b[39;00mstack\u001b[38;5;241m.\u001b[39mPeek()\u001b[38;5;132;01m}\u001b[39;00m\u001b[38;5;124m'\u001b[39m)\n\u001b[0;32m      5\u001b[0m     \u001b[38;5;28mprint\u001b[39m(\u001b[38;5;124m\"\u001b[39m\u001b[38;5;124mNow, about to push more elements into a full stack, let\u001b[39m\u001b[38;5;124m'\u001b[39m\u001b[38;5;124ms see what happens\u001b[39m\u001b[38;5;124m\"\u001b[39m)\n\u001b[1;32m----> 6\u001b[0m     \u001b[43mstack\u001b[49m\u001b[38;5;241;43m.\u001b[39;49m\u001b[43mPush\u001b[49m\u001b[43m(\u001b[49m\u001b[38;5;124;43m'\u001b[39;49m\u001b[38;5;124;43mo\u001b[39;49m\u001b[38;5;124;43m'\u001b[39;49m\u001b[43m)\u001b[49m\n\u001b[0;32m      7\u001b[0m \u001b[38;5;28;01melse\u001b[39;00m:\n\u001b[0;32m      8\u001b[0m     \u001b[38;5;28mprint\u001b[39m(\u001b[38;5;124m'\u001b[39m\u001b[38;5;124mThe stack is not Full!\u001b[39m\u001b[38;5;124m'\u001b[39m)\n",
      "Cell \u001b[1;32mIn[12], line 35\u001b[0m, in \u001b[0;36mSTACK.Push\u001b[1;34m(self, item)\u001b[0m\n\u001b[0;32m     33\u001b[0m     \u001b[38;5;28mprint\u001b[39m(\u001b[38;5;124mf\u001b[39m\u001b[38;5;124m\"\u001b[39m\u001b[38;5;124mPushed Item %s; Top-Position now: %d\u001b[39m\u001b[38;5;124m\"\u001b[39m\u001b[38;5;241m%\u001b[39m(\u001b[38;5;28mstr\u001b[39m(item),\u001b[38;5;28mself\u001b[39m\u001b[38;5;241m.\u001b[39mtop)) \n\u001b[0;32m     34\u001b[0m \u001b[38;5;28;01melse\u001b[39;00m: \u001b[38;5;66;03m#If the stack is full, we are going to raise an error. \u001b[39;00m\n\u001b[1;32m---> 35\u001b[0m     \u001b[38;5;28;01mraise\u001b[39;00m stackError(\u001b[38;5;124m\"\u001b[39m\u001b[38;5;124mCan\u001b[39m\u001b[38;5;124m'\u001b[39m\u001b[38;5;124mt push; The Stack is full\u001b[39m\u001b[38;5;124m\"\u001b[39m)\n",
      "\u001b[1;31mstackError\u001b[0m: Can't push; The Stack is full"
     ]
    }
   ],
   "source": [
    "#Since our stack should be full now, lets check if it's full and then see the top element and maybe try to push one more element into this\n",
    "if stack.CheckFull():\n",
    "    print('The stack is Full!')\n",
    "    print(f'The top eleement is! {stack.Peek()}')\n",
    "    print(\"Now, about to push more elements into a full stack, let's see what happens\")\n",
    "    stack.Push('o')\n",
    "else:\n",
    "    print('The stack is not Full!')"
   ]
  },
  {
   "cell_type": "code",
   "execution_count": 30,
   "metadata": {},
   "outputs": [
    {
     "name": "stdout",
     "output_type": "stream",
     "text": [
      "Popped Item from Stack! Top-Position now: 3\n",
      "Popped Item from Stack! Top-Position now: 2\n",
      "Popped Item from Stack! Top-Position now: 1\n",
      "Popped Item from Stack! Top-Position now: 0\n",
      "Popped Item from Stack! Top-Position now: -1\n",
      "This was the stack : ['o', 'l', 'l', 'e', 'H']\n"
     ]
    }
   ],
   "source": [
    "#Now let's try to completely empty out the stack and display the contents of the stack as we remove them\n",
    "val = []\n",
    "while stack.top > -1:\n",
    "    val.append(stack.Pop())\n",
    "print(f'This was the stack : {val}')"
   ]
  },
  {
   "cell_type": "code",
   "execution_count": 32,
   "metadata": {},
   "outputs": [
    {
     "name": "stdout",
     "output_type": "stream",
     "text": [
      "The stack is empty!\n",
      "Let's try to pop for an empty stack\n"
     ]
    },
    {
     "ename": "stackError",
     "evalue": "Can't pop; Empty Stack",
     "output_type": "error",
     "traceback": [
      "\u001b[1;31m---------------------------------------------------------------------------\u001b[0m",
      "\u001b[1;31mstackError\u001b[0m                                Traceback (most recent call last)",
      "Cell \u001b[1;32mIn[32], line 5\u001b[0m\n\u001b[0;32m      3\u001b[0m     \u001b[38;5;28mprint\u001b[39m(\u001b[38;5;124m\"\u001b[39m\u001b[38;5;124mThe stack is empty!\u001b[39m\u001b[38;5;124m\"\u001b[39m)\n\u001b[0;32m      4\u001b[0m     \u001b[38;5;28mprint\u001b[39m(\u001b[38;5;124m\"\u001b[39m\u001b[38;5;124mLet\u001b[39m\u001b[38;5;124m'\u001b[39m\u001b[38;5;124ms try to pop for an empty stack\u001b[39m\u001b[38;5;124m\"\u001b[39m)\n\u001b[1;32m----> 5\u001b[0m     \u001b[43mstack\u001b[49m\u001b[38;5;241;43m.\u001b[39;49m\u001b[43mPop\u001b[49m\u001b[43m(\u001b[49m\u001b[43m)\u001b[49m\n\u001b[0;32m      6\u001b[0m \u001b[38;5;28;01melse\u001b[39;00m:\n\u001b[0;32m      7\u001b[0m     \u001b[38;5;28mprint\u001b[39m(\u001b[38;5;124m\"\u001b[39m\u001b[38;5;124mThe stack is not empty!\u001b[39m\u001b[38;5;124m\"\u001b[39m)\n",
      "Cell \u001b[1;32mIn[21], line 39\u001b[0m, in \u001b[0;36mSTACK.Pop\u001b[1;34m(self)\u001b[0m\n\u001b[0;32m     37\u001b[0m \u001b[38;5;28;01mdef\u001b[39;00m \u001b[38;5;21mPop\u001b[39m(\u001b[38;5;28mself\u001b[39m): \u001b[38;5;66;03m#Here, lets pop an element from the stack (removing an element from the stack)\u001b[39;00m\n\u001b[0;32m     38\u001b[0m     \u001b[38;5;28;01mif\u001b[39;00m \u001b[38;5;28mself\u001b[39m\u001b[38;5;241m.\u001b[39mCheckEmpty(): \u001b[38;5;66;03m#making sure that the stack isn't empty and if it is, raising an error\u001b[39;00m\n\u001b[1;32m---> 39\u001b[0m         \u001b[38;5;28;01mraise\u001b[39;00m stackError(\u001b[38;5;124m\"\u001b[39m\u001b[38;5;124mCan\u001b[39m\u001b[38;5;124m'\u001b[39m\u001b[38;5;124mt pop; Empty Stack\u001b[39m\u001b[38;5;124m\"\u001b[39m) \n\u001b[0;32m     40\u001b[0m     \u001b[38;5;28;01melse\u001b[39;00m:\n\u001b[0;32m     41\u001b[0m         val \u001b[38;5;241m=\u001b[39m \u001b[38;5;28mself\u001b[39m\u001b[38;5;241m.\u001b[39mstack\u001b[38;5;241m.\u001b[39mpop() \u001b[38;5;66;03m#here, we are removing the right most book for the bookshelf and changing the top variable to track the bookshelf correctly\u001b[39;00m\n",
      "\u001b[1;31mstackError\u001b[0m: Can't pop; Empty Stack"
     ]
    }
   ],
   "source": [
    "#Now that the stack is empty, lets make sure and then try to pop more elements. \n",
    "if stack.CheckEmpty():\n",
    "    print(\"The stack is empty!\")\n",
    "    print(\"Let's try to pop for an empty stack\")\n",
    "    stack.Pop()\n",
    "else:\n",
    "    print(\"The stack is not empty!\")"
   ]
  },
  {
   "cell_type": "markdown",
   "metadata": {},
   "source": [
    "Note, when implementating this on your own (which you should totally do! Try to understand the code and then try to code it up with using just your understanding of your class)\n",
    "\n",
    "You can remove the print statements in your implementation to make it look more professional! \n",
    "\n",
    "Soooo, off you go and try it on your own! You can do it!!!"
   ]
  }
 ],
 "metadata": {
  "kernelspec": {
   "display_name": "base",
   "language": "python",
   "name": "python3"
  },
  "language_info": {
   "codemirror_mode": {
    "name": "ipython",
    "version": 3
   },
   "file_extension": ".py",
   "mimetype": "text/x-python",
   "name": "python",
   "nbconvert_exporter": "python",
   "pygments_lexer": "ipython3",
   "version": "3.11.7"
  }
 },
 "nbformat": 4,
 "nbformat_minor": 2
}
