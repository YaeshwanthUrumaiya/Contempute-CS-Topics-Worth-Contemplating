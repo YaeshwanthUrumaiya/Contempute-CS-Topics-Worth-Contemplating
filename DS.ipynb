{
 "cells": [
  {
   "cell_type": "code",
   "execution_count": null,
   "metadata": {},
   "outputs": [],
   "source": [
    "print(\"Hello\")"
   ]
  },
  {
   "cell_type": "markdown",
   "metadata": {},
   "source": [
    "# What is a Data Structure?\n",
    "\n",
    "In CS, Data is king and when dealing with large number of number, you need a way to safely store them in such a way that you can access them quickly. Thus, people figured out various ways to store, fetch and edit data in the quickest way possible. It helps us manage our computing resources as effective as possible. \n",
    "\n",
    "## Okay, but why is it so important? \n",
    "\n",
    "### Effective:\n",
    "Using Data Structures to store data is very effective and since certain tasks will perform way better when handled using certain data structures. For example, if you were to handle the marks of all the students in your entire university and have to find the average mark of your university. Having the answer sheets piled up on your table would be very bulky to manage and calcalute the marks. Whereas just having the ID of the student and their marks on an excel sheet would be far better. In this task, the data stored in all of those answer sheets can be used to find the average. But differnt way of storing the same information will aid the task to be completed in mere secounds.  \n",
    "\n",
    "Moreover, you can save your energy and time (i.e resources) when using the right data structure for the right task.\n",
    "\n",
    "## Scalability: \n",
    "Imainge the same situtaion of finding the average. What if 300 students didn't attend the exam and then university conducted retest for them and then you have another 300 answer sheets on your desk to calcalute, wouldn't that be frustrating? If using excel, it's just 300 more rows and you can still use the same method and complete the task. So when your data is getting bigger and bigger over them, the right data structure should still be able to handle the task as effective as possible. \n",
    "\n",
    "## Real World Application: \n",
    "Every application and process in any of your device would have some sort of data in them and all of those data are stored by some structured method. Finding which data structure to use for which task is cruical because it could end up making a huge difference as we learnt for the example. Thus, learning the pros, cons and the implementation along with their applications of the most used data structures is necessary. "
   ]
  },
  {
   "cell_type": "markdown",
   "metadata": {},
   "source": [
    "# Stack"
   ]
  },
  {
   "cell_type": "markdown",
   "metadata": {},
   "source": [
    "## What is it?\n",
    "\n",
    "Imagine a stack of books on your table right now. Each book is an element in your stack, and each element have some infomation/data in them. \n",
    "\n",
    "Now, if you were to add a book, you're going to add it to the top. And if you're going to remove a book, you're going to remove from the top. \n",
    "\n",
    "So if there is three books in the stack, BookA, BookB, BookC. If you want to add BookD. the stack would be something like this:\n",
    "\n",
    "BookD\n",
    "BookC\n",
    "BookB\n",
    "BookA\n",
    "\n",
    "and if you want to take the BookB, since all of the books very heavy, you're going to remove the BookD, BookC and then take BookB.\n",
    "\n",
    "The most recent book BookD gets removed first in a stack. Thus the name Last In, First Out is coined. \n",
    "\n",
    "The book that enters the stack last will get exited first cuz there is only way of enter, which is the top. \n",
    "\n",
    "## What can you do with this? \n",
    "\n",
    "Well, you can add an element, and remove an element the stack. You can also take a peek at the top most element in the stack and check if the stack is empty or is all filled up. \n",
    "\n",
    "## What can you actually do with this? \n",
    "\n",
    "A whole concept called recusive functions is based on stacks. \n",
    "\n",
    "You can find the edits made to a file and store them in a stack and use it to undo/redo the changes. (Try to visualize how it would work.)\n",
    "\n",
    "Another task called InFix and PostFix conversion can be done.\n",
    "\n",
    "and so much more, some which we will see in the applications of data structure!\n",
    "\n",
    "## Now lets get to the implementation!"
   ]
  },
  {
   "cell_type": "code",
   "execution_count": 4,
   "metadata": {},
   "outputs": [],
   "source": [
    "#The below is the implementation of stack in Python. Let me explain how it works!\n",
    "\n",
    "class stackError(Exception):\n",
    "    # to handle errors in the class below\n",
    "    pass\n",
    "\n",
    "class STACK():\n",
    "    def __init__(self,limit):\n",
    "        self.stack=[]\n",
    "        self.limit = limit\n",
    "        self.top=-1\n",
    "        #So this is the __init__ function, will figure out what is the max limit of elements that our stack can handle and we are setting up the parameters here to use later. \n",
    "        #stack -> have all of the elements in our stack. \n",
    "        #limit -> has the max limit of elements which we can have in our stack, which is given by the user. \n",
    "        #top -> it's a counter which keeps track on where is our top most element is. \n",
    "    \n",
    "    def CheckEmpty(self): #Here, we're trying to check the length is 0 and if so, it will return True, if not, it'll return False. \n",
    "        return len(self.stack) == 0\n",
    "    \n",
    "    def CheckFull(self): #Since we know the limit of the stack, we can do a simple if statement and return if our stack is full or not.\n",
    "        return len(self.stack) == self.limit\n",
    "    \n",
    "    #How does the self.stack work? When take that stack of book example and instead of it being from the bottom to top, flip it onto it's side and we're going from left to right. \n",
    "    #(Like a bookshelf slowly getting filled up form the left to right. But you're restricted to only take the right most book because we're using a stack but visualizing it differently) \n",
    "    #DEVNOTE: Include images here to better explain.  \n",
    "     \n",
    "    def Push(self,item): #Here, lets push an element into the stack (adding an element into the stack) \n",
    "        # We are getting the item which we're going to add into the stack as a parameter. \n",
    "        \n",
    "        if not self.CheckFull(): #and making sure that the stack isn't full\n",
    "            self.stack.append(item) # and appending the item to the stack (adding to the right.)\n",
    "            self.top +=1 #and making sure that the top is tracking the rightmost book in the bookshelf. \n",
    "            print(f\"Pushed Item %s; Top-Position now: %d\"%(str(item),self.top)) \n",
    "        else: #If the stack is full, we are going to raise an error. \n",
    "            raise stackError(\"Can't push; The Stack is full\")\n",
    "    \n",
    "    def Pop(self): #Here, lets pop an element from the stack (removing an element from the stack)\n",
    "        if self.CheckEmpty(): #making sure that the stack isn't empty and if it is, raising an error\n",
    "            raise stackError(\"Can't pop; Empty Stack\") \n",
    "        else:\n",
    "            val = self.stack.pop() #here, we are removing the right most book for the bookshelf and changing the top variable to track the bookshelf correctly\n",
    "            self.top -= 1\n",
    "            print(f\"Popped Item from Stack! Top-Position now: %d\"%(self.top))\n",
    "            return val\n",
    "            \n",
    "    def Peek(self): #Here, we're just looking at the top element in our stack\n",
    "        if not self.CheckEmpty():\n",
    "            return self.stack[self.top]\n",
    "        else:\n",
    "            raise stackError(\"The stack is empty!\")\n",
    "            \n",
    "    #The below three function are just helper functions which will makes our understanding easier. \n",
    "    def __str__(self):\n",
    "        out = \"\\n\".join(str(i) for i in self.stack[::-1])\n",
    "        return out\n",
    "    \n",
    "    def __getitem__(self, index):\n",
    "        return self.stack[::-1][index]\n",
    "    \n",
    "    def __contains__(self, key):\n",
    "        if key in self.stack:\n",
    "            return True\n",
    "        else:\n",
    "            return False\n",
    "    \n",
    "# Note: We can just use len(stack) instead of top variable. But we are using top because len() can never be -1; the stack can never be empty (if you can't figure out why is that, \n",
    "# please try to understand how top variable behaves when the stack is empty and when stack has 1 element in it. Try to understand what is the top variable is tracking)\n",
    "\n",
    "# And, in other languages like C, using top is more effective than find the length of something, so thus when transitioning to those languages, the switch will be a bit easier to follow because \n",
    "# we used stuff like top variable here to being with!"
   ]
  },
  {
   "cell_type": "markdown",
   "metadata": {},
   "source": [
    "## Now let's use this Class and see how it works!"
   ]
  },
  {
   "cell_type": "code",
   "execution_count": 5,
   "metadata": {},
   "outputs": [
    {
     "name": "stdout",
     "output_type": "stream",
     "text": [
      "5\n"
     ]
    }
   ],
   "source": [
    "#Let's create the stack \n",
    "li = list(\"Hello\")\n",
    "stack = STACK(len(li))\n",
    "print(stack.limit) "
   ]
  },
  {
   "cell_type": "code",
   "execution_count": 6,
   "metadata": {},
   "outputs": [
    {
     "name": "stdout",
     "output_type": "stream",
     "text": [
      "Pushed Item H; Top-Position now: 0\n",
      "Pushed Item e; Top-Position now: 1\n",
      "Pushed Item l; Top-Position now: 2\n",
      "Pushed Item l; Top-Position now: 3\n",
      "Pushed Item o; Top-Position now: 4\n",
      "o\n",
      "l\n",
      "l\n",
      "e\n",
      "H\n",
      "Yes\n"
     ]
    }
   ],
   "source": [
    "#We are going to store the characters of the str variable li in our stack\n",
    "for i in li: \n",
    "    stack.Push(i)\n",
    "#Now lets take a look at our stack\n",
    "print(stack)\n",
    "if 'l' in stack:\n",
    "    print(\"Yes\") "
   ]
  },
  {
   "cell_type": "markdown",
   "metadata": {},
   "source": [
    "As you can see, the latest character is at the top and the first character (i.e H) is at the buttom"
   ]
  },
  {
   "cell_type": "code",
   "execution_count": 27,
   "metadata": {},
   "outputs": [
    {
     "name": "stdout",
     "output_type": "stream",
     "text": [
      "['l', 'e', 'H']\n"
     ]
    }
   ],
   "source": [
    "#Note, you can display a subset of the stack without removing them like this!\n",
    "print(stack[2:])"
   ]
  },
  {
   "cell_type": "code",
   "execution_count": 17,
   "metadata": {},
   "outputs": [
    {
     "name": "stdout",
     "output_type": "stream",
     "text": [
      "The stack is Full!\n",
      "The top eleement is! o\n",
      "Now, about to push more elements into a full stack, let's see what happens\n"
     ]
    },
    {
     "ename": "stackError",
     "evalue": "Can't push; The Stack is full",
     "output_type": "error",
     "traceback": [
      "\u001b[1;31m---------------------------------------------------------------------------\u001b[0m",
      "\u001b[1;31mstackError\u001b[0m                                Traceback (most recent call last)",
      "Cell \u001b[1;32mIn[17], line 6\u001b[0m\n\u001b[0;32m      4\u001b[0m     \u001b[38;5;28mprint\u001b[39m(\u001b[38;5;124mf\u001b[39m\u001b[38;5;124m'\u001b[39m\u001b[38;5;124mThe top eleement is! \u001b[39m\u001b[38;5;132;01m{\u001b[39;00mstack\u001b[38;5;241m.\u001b[39mPeek()\u001b[38;5;132;01m}\u001b[39;00m\u001b[38;5;124m'\u001b[39m)\n\u001b[0;32m      5\u001b[0m     \u001b[38;5;28mprint\u001b[39m(\u001b[38;5;124m\"\u001b[39m\u001b[38;5;124mNow, about to push more elements into a full stack, let\u001b[39m\u001b[38;5;124m'\u001b[39m\u001b[38;5;124ms see what happens\u001b[39m\u001b[38;5;124m\"\u001b[39m)\n\u001b[1;32m----> 6\u001b[0m     \u001b[43mstack\u001b[49m\u001b[38;5;241;43m.\u001b[39;49m\u001b[43mPush\u001b[49m\u001b[43m(\u001b[49m\u001b[38;5;124;43m'\u001b[39;49m\u001b[38;5;124;43mo\u001b[39;49m\u001b[38;5;124;43m'\u001b[39;49m\u001b[43m)\u001b[49m\n\u001b[0;32m      7\u001b[0m \u001b[38;5;28;01melse\u001b[39;00m:\n\u001b[0;32m      8\u001b[0m     \u001b[38;5;28mprint\u001b[39m(\u001b[38;5;124m'\u001b[39m\u001b[38;5;124mThe stack is not Full!\u001b[39m\u001b[38;5;124m'\u001b[39m)\n",
      "Cell \u001b[1;32mIn[12], line 35\u001b[0m, in \u001b[0;36mSTACK.Push\u001b[1;34m(self, item)\u001b[0m\n\u001b[0;32m     33\u001b[0m     \u001b[38;5;28mprint\u001b[39m(\u001b[38;5;124mf\u001b[39m\u001b[38;5;124m\"\u001b[39m\u001b[38;5;124mPushed Item %s; Top-Position now: %d\u001b[39m\u001b[38;5;124m\"\u001b[39m\u001b[38;5;241m%\u001b[39m(\u001b[38;5;28mstr\u001b[39m(item),\u001b[38;5;28mself\u001b[39m\u001b[38;5;241m.\u001b[39mtop)) \n\u001b[0;32m     34\u001b[0m \u001b[38;5;28;01melse\u001b[39;00m: \u001b[38;5;66;03m#If the stack is full, we are going to raise an error. \u001b[39;00m\n\u001b[1;32m---> 35\u001b[0m     \u001b[38;5;28;01mraise\u001b[39;00m stackError(\u001b[38;5;124m\"\u001b[39m\u001b[38;5;124mCan\u001b[39m\u001b[38;5;124m'\u001b[39m\u001b[38;5;124mt push; The Stack is full\u001b[39m\u001b[38;5;124m\"\u001b[39m)\n",
      "\u001b[1;31mstackError\u001b[0m: Can't push; The Stack is full"
     ]
    }
   ],
   "source": [
    "#Since our stack should be full now, lets check if it's full and then see the top element and maybe try to push one more element into this\n",
    "if stack.CheckFull():\n",
    "    print('The stack is Full!')\n",
    "    print(f'The top eleement is! {stack.Peek()}')\n",
    "    print(\"Now, about to push more elements into a full stack, let's see what happens\")\n",
    "    stack.Push('o')\n",
    "else:\n",
    "    print('The stack is not Full!')"
   ]
  },
  {
   "cell_type": "code",
   "execution_count": 30,
   "metadata": {},
   "outputs": [
    {
     "name": "stdout",
     "output_type": "stream",
     "text": [
      "Popped Item from Stack! Top-Position now: 3\n",
      "Popped Item from Stack! Top-Position now: 2\n",
      "Popped Item from Stack! Top-Position now: 1\n",
      "Popped Item from Stack! Top-Position now: 0\n",
      "Popped Item from Stack! Top-Position now: -1\n",
      "This was the stack : ['o', 'l', 'l', 'e', 'H']\n"
     ]
    }
   ],
   "source": [
    "#Now let's try to completely empty out the stack and display the contents of the stack as we remove them\n",
    "val = []\n",
    "while stack.top > -1:\n",
    "    val.append(stack.Pop())\n",
    "print(f'This was the stack : {val}')"
   ]
  },
  {
   "cell_type": "code",
   "execution_count": 32,
   "metadata": {},
   "outputs": [
    {
     "name": "stdout",
     "output_type": "stream",
     "text": [
      "The stack is empty!\n",
      "Let's try to pop for an empty stack\n"
     ]
    },
    {
     "ename": "stackError",
     "evalue": "Can't pop; Empty Stack",
     "output_type": "error",
     "traceback": [
      "\u001b[1;31m---------------------------------------------------------------------------\u001b[0m",
      "\u001b[1;31mstackError\u001b[0m                                Traceback (most recent call last)",
      "Cell \u001b[1;32mIn[32], line 5\u001b[0m\n\u001b[0;32m      3\u001b[0m     \u001b[38;5;28mprint\u001b[39m(\u001b[38;5;124m\"\u001b[39m\u001b[38;5;124mThe stack is empty!\u001b[39m\u001b[38;5;124m\"\u001b[39m)\n\u001b[0;32m      4\u001b[0m     \u001b[38;5;28mprint\u001b[39m(\u001b[38;5;124m\"\u001b[39m\u001b[38;5;124mLet\u001b[39m\u001b[38;5;124m'\u001b[39m\u001b[38;5;124ms try to pop for an empty stack\u001b[39m\u001b[38;5;124m\"\u001b[39m)\n\u001b[1;32m----> 5\u001b[0m     \u001b[43mstack\u001b[49m\u001b[38;5;241;43m.\u001b[39;49m\u001b[43mPop\u001b[49m\u001b[43m(\u001b[49m\u001b[43m)\u001b[49m\n\u001b[0;32m      6\u001b[0m \u001b[38;5;28;01melse\u001b[39;00m:\n\u001b[0;32m      7\u001b[0m     \u001b[38;5;28mprint\u001b[39m(\u001b[38;5;124m\"\u001b[39m\u001b[38;5;124mThe stack is not empty!\u001b[39m\u001b[38;5;124m\"\u001b[39m)\n",
      "Cell \u001b[1;32mIn[21], line 39\u001b[0m, in \u001b[0;36mSTACK.Pop\u001b[1;34m(self)\u001b[0m\n\u001b[0;32m     37\u001b[0m \u001b[38;5;28;01mdef\u001b[39;00m \u001b[38;5;21mPop\u001b[39m(\u001b[38;5;28mself\u001b[39m): \u001b[38;5;66;03m#Here, lets pop an element from the stack (removing an element from the stack)\u001b[39;00m\n\u001b[0;32m     38\u001b[0m     \u001b[38;5;28;01mif\u001b[39;00m \u001b[38;5;28mself\u001b[39m\u001b[38;5;241m.\u001b[39mCheckEmpty(): \u001b[38;5;66;03m#making sure that the stack isn't empty and if it is, raising an error\u001b[39;00m\n\u001b[1;32m---> 39\u001b[0m         \u001b[38;5;28;01mraise\u001b[39;00m stackError(\u001b[38;5;124m\"\u001b[39m\u001b[38;5;124mCan\u001b[39m\u001b[38;5;124m'\u001b[39m\u001b[38;5;124mt pop; Empty Stack\u001b[39m\u001b[38;5;124m\"\u001b[39m) \n\u001b[0;32m     40\u001b[0m     \u001b[38;5;28;01melse\u001b[39;00m:\n\u001b[0;32m     41\u001b[0m         val \u001b[38;5;241m=\u001b[39m \u001b[38;5;28mself\u001b[39m\u001b[38;5;241m.\u001b[39mstack\u001b[38;5;241m.\u001b[39mpop() \u001b[38;5;66;03m#here, we are removing the right most book for the bookshelf and changing the top variable to track the bookshelf correctly\u001b[39;00m\n",
      "\u001b[1;31mstackError\u001b[0m: Can't pop; Empty Stack"
     ]
    }
   ],
   "source": [
    "#Now that the stack is empty, lets make sure and then try to pop more elements. \n",
    "if stack.CheckEmpty():\n",
    "    print(\"The stack is empty!\")\n",
    "    print(\"Let's try to pop for an empty stack\")\n",
    "    stack.Pop()\n",
    "else:\n",
    "    print(\"The stack is not empty!\")"
   ]
  },
  {
   "cell_type": "markdown",
   "metadata": {},
   "source": [
    "Note, when implementating this on your own (which you should totally do! Try to understand the code and then try to code it up with using just your understanding of your class)\n",
    "\n",
    "You can remove the print statements in your implementation to make it look more professional! \n",
    "\n",
    "Soooo, off you go and try it on your own! You can do it!!!"
   ]
  },
  {
   "cell_type": "markdown",
   "metadata": {},
   "source": [
    "# Queue"
   ]
  },
  {
   "cell_type": "markdown",
   "metadata": {},
   "source": [
    "## What is it? \n",
    "\n",
    "Well, I think queues are pretty self explainatory; It's like standing in line for your starbucks order or waiting for your disney world tickets. The sooner you join the queue, the sooner you will exit the queue. \n",
    "\n",
    "If there are three people on the queue already, the first person have to exit the queue for the 2nd person to take the first person's spot and the 3rd person move to the 2nd person spot and you will move one step closer, thus naming the queues as First In-First Out! \n",
    "\n",
    "Rather than Stack, which has only one point of entry/exit (aka the top of the stack,) the queue have two points like that (one for entry, aka the front of the queue and another for exit, aka the end of the queue.)\n",
    "\n",
    "## What tasks can you do with the queues? \n",
    "\n",
    "Well, everything you can do with stacks, you can also do with queues, but all of them are named differently. Let's see how the names are changed (The functionality is the same, if you don't know what is the functionality of these tasks, better read the stack first ;) )\n",
    "\n",
    "Push -> Enqueue\n",
    "\n",
    "Pop -> Dequeue\n",
    "\n",
    "The other core functionalities like checkempty, checkfull, peek are all named same!\n",
    "\n",
    "## What is queues actually used for? \n",
    "\n",
    "Task managamenet -> When you have a set of computing tasks, they join a queue and each of them will be executed accordingly \n",
    "\n",
    "Buffering data -> In networking, when a rate at which you are sending data is more than the rate of you getting data, you are going to store the data temporarily at the sender's end to match the speed of reading data. So you would use a queue there. (Note: Didn't explain as briefly as we could've. But try to visualize on how this would work)\n",
    "\n",
    "Chat messages in multiplayer games -> I think this is self explaintory. \n",
    "\n",
    "and so so much more. \n",
    "\n",
    "## Now lets get to the implementation!"
   ]
  },
  {
   "cell_type": "code",
   "execution_count": 1,
   "metadata": {},
   "outputs": [],
   "source": [
    "#The below is the implementation of queue in Python. Let me explain how it works!\n",
    "\n",
    "class queueError(Exception):\n",
    "    # to handle errors in the class below\n",
    "    pass\n",
    "\n",
    "class QUEUE():\n",
    "    def __init__(self,limit):\n",
    "        self.q=[]\n",
    "        self.limit = limit\n",
    "        self.front = -1\n",
    "        self.rear = -1\n",
    "    # Here, (Hoping you are coming here after the stack lesson) Instead of having top, we're having two different variables named front and rear! I think the variable limit is \n",
    "    # self explaintory.\n",
    "    \n",
    "    # The below two functions are basically the same from the stack class. See if you can figure out the logic behind them!\n",
    "    def CheckEmpty(self):\n",
    "        return len(self.q) == 0\n",
    "    \n",
    "    def CheckFull(self):\n",
    "        return len(self.q) == self.limit\n",
    "    \n",
    "    def EnQ(self,item): # Here, we're getting the item which we're going to include item as a parameter (addding an element)\n",
    "        if not self.CheckFull(): # And making sure that the queue isn't full\n",
    "            if(self.CheckEmpty()): # And if we're enqueuing the first item, then we have to update the front variable as well. \n",
    "                self.front = 0\n",
    "            self.q.append(item) # and we're adding the element to the queue from the rear. \n",
    "            self.rear += 1 # and updating the rear variable as well\n",
    "            print(f\"Enqueued Item: %s at rear position: %s\"%(item,str(self.rear)))\n",
    "        else:\n",
    "             raise queueError(\"Can't Enqueue; The Q is full\")\n",
    "         \n",
    "    def DeQ(self): # Here, we're going to dequeue an element (removing an element)\n",
    "        if not self.CheckEmpty(): #and as usually, making sure that queue is not empty\n",
    "            if(self.front == self.rear): # and checking if we are trying to remove the last element from the queue. \n",
    "                self.front , self.rear = -1,-1 #if so, they we need to reset the rear to -1. \n",
    "            val = self.q.pop(0)\n",
    "            # Here, we should've added 1 to the front variable right? Because the front variable should track the front of the queue and we just removed an element so, the front should\n",
    "            # move forward right? That's the catch! Since Python automatically shortens the queue list by 1 when popping an element, there is no need to update the front variable as the entire size of our queue is reduced by 1. \n",
    "            # when we should update the front variable is, when the array doesn't shorten but an None/Null value is replacing the front value. Aka when the array size is static. \n",
    "            # Likewise, we got no need to use rear varaible as well as just using len(q) will produce the same results. But we are doing this so that when implementating this \n",
    "            # in other langauges like C/C++, it'll be easier. But Knowing this, we can optimize the queue class even further! Try to figure that out!!!\n",
    "            print(\"Dequeued Item and shifted the Queue forward\")\n",
    "            return val\n",
    "        else:\n",
    "            raise queueError(\"Can't Dequeue; The Q is empty\")\n",
    "        \n",
    "    def Peek(self): #Here, we're just looking at the top element in our queue\n",
    "        if not self.CheckEmpty():\n",
    "            return self.q[self.front]\n",
    "        else:\n",
    "            queueError(\"The queue is empty!\")\n",
    "              \n",
    "    #The below three function are just helper functions which will makes our understanding easier. \n",
    "    def __str__(self):\n",
    "        out = \" <- \".join(str(i) for i in self.q)\n",
    "        return out\n",
    "    \n",
    "    def __getitem__(self, index):\n",
    "        return self.q[index]\n",
    "    \n",
    "    def __contains__(self, key):\n",
    "        if key in self.q:\n",
    "            return True\n",
    "        else:\n",
    "            return False"
   ]
  },
  {
   "cell_type": "markdown",
   "metadata": {},
   "source": [
    "## Now let's use this Class and see how it works!"
   ]
  },
  {
   "cell_type": "code",
   "execution_count": null,
   "metadata": {},
   "outputs": [],
   "source": [
    "# Creating and displaying the queue\n",
    "q = QUEUE(3)\n",
    "q.EnQ(\"a\")\n",
    "q.EnQ('b')\n",
    "q.EnQ('v')\n",
    "print(q)"
   ]
  },
  {
   "cell_type": "code",
   "execution_count": null,
   "metadata": {},
   "outputs": [],
   "source": [
    "# Removing an element and seeing how the queue is like (displaying the first element of the queue!)\n",
    "q.DeQ()\n",
    "q.Peek()"
   ]
  },
  {
   "cell_type": "code",
   "execution_count": null,
   "metadata": {},
   "outputs": [],
   "source": [
    "# Note, we can have stuff like checking empty and full as how we had with stack and we can display a specific subset of the queue\n",
    "print(q[0])\n",
    "# Moveover, trying to enqueue a full queue or dequeuing an empty queue will result in error as we seen with stacks!"
   ]
  },
  {
   "cell_type": "markdown",
   "metadata": {},
   "source": [
    "Note, when implementating this on your own (which you should totally do! Try to understand the code and then try to code it up with using just your understanding of your class)\n",
    "\n",
    "You can remove the print statements in your implementation to make it look more professional! \n",
    "\n",
    "Soooo, off you go and try it on your own! You can do it!!!"
   ]
  },
  {
   "cell_type": "markdown",
   "metadata": {},
   "source": [
    "# Linked Lists"
   ]
  },
  {
   "cell_type": "markdown",
   "metadata": {},
   "source": [
    "## What is it?\n",
    "\n",
    "Imagine you went to the beach one day and found a map inside of a bottle. When going to the location on the map, you dig up a sack full of gold coins. But that's not all, you also find another map. Now naturally, you go the location in that 2nd map and then find another sack of coins + map. Each time you go to the location in the map, you find a sack of coin + map till the 12th time, which had just the sack of coins alone. This is literally linked lists. \n",
    "\n",
    "The first map is found along without any gold, every other location will have both the sack of gold + map except the final location. The maps point you to the next location while the sack of coins is the valuable part of your excavation. \n",
    "\n",
    "The first map is known as header, the maps you found in each location along with the gold is known as pointers and each pointer will point to the next treasure. Oh, by the way, the treasures are known as the data.\n",
    "\n",
    "You bury the map and the gold together as a whole, which is known as a node! \n",
    "\n",
    "The whole idea of your header pointing to your first node and each pointer inside each node pointing to the next node till the final node doesn't have a pointer is known as linked list. Now, the pirates are also CS Big Brains!\n",
    "\n",
    "## What can you do with them? \n",
    "\n",
    "You can insert a node inside the linked like (in the front, in the back and in the middle) and you can delete a node (in the front, in the back ad in the middle) and finally, you can search for an value in the linked list and that's it! \n",
    "\n",
    "## What are these actually used for in the real world? \n",
    "\n",
    "Well, this data structure is kinda like the underlying DS for implementing various other DS like Hashmaps and so on. As a matter of fact, instead of using Lists (in python) for implementing stack and queues, we can use Linked Lists.\n",
    "\n",
    "Move over, the usecase of Linked lists is pretty much everywhere! \n",
    "\n",
    "## Now lets get to the implementation!"
   ]
  },
  {
   "cell_type": "code",
   "execution_count": 36,
   "metadata": {},
   "outputs": [],
   "source": [
    "#The below is the implementation of Linked List in Python. Let me explain how it works!\n",
    "\n",
    "class Node: \n",
    "    #This is the functionality of a node. Item is your sack of gold and the nextmap is the map that is pointing to the next Node. \n",
    "    def __init__(self, item):\n",
    "        self.item = item\n",
    "        self.nextmap = None\n",
    "\n",
    "class LinkedList:\n",
    "    def __init__(self):\n",
    "        self.head = None #We're setting the header (aka the first map to None) Because when we first insert an value, we'll update this!\n",
    "\n",
    "    def insert(self, item, index=None):\n",
    "        #To insert an value into the linked list, You will give the item and if required, give the index at which you wanna insert as well. If the index is not given, it will insert at the end\n",
    "        #Have Graphics/Icons to explain all of these insert methods. \n",
    "        \n",
    "        if index is None: #If the index paramater is not mentioned, then we'll add the item to the end\n",
    "            if self.head is None: #Checking if the head is empty, (aka the linked list is empty)\n",
    "                self.head = Node(item) #Then we update the header value and create an new node. Since there is no other items, the nextmap of our first node is None. \n",
    "            else: #If there is items in the linked list already, then we're going to find the final value. \n",
    "                current = self.head #this value will the first node. \n",
    "                while current.nextmap: #this will loop till the nextmap of the current node is None.\n",
    "                    current = current.nextmap\n",
    "                current.nextmap = Node(item) #And when the final node's nextmap is None, you are updating that value by our new node. \n",
    "        else: #Here, we're inserting to a specifc index. \n",
    "            if index == 0: #If the value is to be inserted at the start.\n",
    "                new_node = Node(item) #Create the new node\n",
    "                new_node.nextmap = self.head #Assign the new node's map as the current header (aka the first value of the linked list)\n",
    "                self.head = new_node #and finally, update the header value \n",
    "            else:\n",
    "                current = self.head\n",
    "                for i in range(index-1): #Looping to the given index. Our given range here is index-1, why is that? (Because we are checking nextmap of our current node, thus looking one step further at all times)\n",
    "                    if current is None: #If the current turns None before the for loop is done, what does that mean? (It means the given index exceeds the current length of the list)\n",
    "                        raise IndexError(\"Index out of range\")\n",
    "                    current = current.nextmap\n",
    "                new_node = Node(item) #Here we're doing the same ideas as the header but with an element that's in the middel of the list!\n",
    "                new_node.nextmap = current.nextmap\n",
    "                current.nextmap = new_node\n",
    "\n",
    "    def remove(self, index = 0):\n",
    "        #Removing an element from the list. If index is not given, it will remove the first value. \n",
    "        #Now that you seen how the linked list behaves when index parameter is not mentioned in both insert and remove functions. Does it seem similar to any other DS we've seen so far? (Yes, QUEUES)\n",
    "         \n",
    "        if self.head == None: #I think this explains itself ;>\n",
    "            return\n",
    "\n",
    "        temp_head = self.head # we need a temp variable to hold the head for us!\n",
    "        \n",
    "        if index == 0: #If the index is 0, need to remove the first element\n",
    "            self.head = temp_head.nextmap #Take the header and assign it to the 2nd value. \n",
    "            temp_head = None #Cleaning up the deleted node. \n",
    "            return\n",
    "\n",
    "        for i in range(index - 1): #And if any value is given, we're going to loop to that index. \n",
    "            if temp_head is None: #And if it turns None, means the given index exceeds the range of the list, We are breaking it to raise the error below. \n",
    "                break\n",
    "            temp_head = temp_head.nextmap\n",
    "           \n",
    "\n",
    "        if temp_head is None or temp_head.nextmap is None: #And we're raising the error here. This will come in clutch if the given index exceeds the our list's size. \n",
    "            raise IndexError(\"Index out of range\") #We're checking both temp_head and temp_head.nextmap. Why's that? (If the index is far more than list's size, the temp_head will be None. But if we're trying to remove the item at the index of (list's size)+1, the temp_head will have the last item but the nextmap of the temp_head will be None. So that's why!)\n",
    "        \n",
    "        #And now, we just need to swap the values.\n",
    "        next_to_temp = temp_head.nextmap.nextmap\n",
    "        temp_head.nextmap = next_to_temp\n",
    "        next_node = None  #Clean up the removed node\n",
    "\n",
    "\n",
    "    def search(self, item):\n",
    "        #Here, we're going to just look fo an item and then return it's index when the item is present and -1 when the item isn't present. \n",
    "        temp_head = self.head\n",
    "        i=0\n",
    "        \n",
    "        #Looping thru all the items of the nodes. \n",
    "        while temp_head is not None:\n",
    "            if item==temp_head.item: #if found, it will return the item's index, (stored in variable i)\n",
    "                return i \n",
    "            i+=1\n",
    "            temp_head = temp_head.nextmap\n",
    "        return -1 #And if it didn't return in the while loop, it means the item isn't present in the whole list. thus returning -1\n",
    "    \n",
    "    #The below three function are just helper functions which will makes our understanding easier. \n",
    "    def __str__(self,return_list=False):\n",
    "        output = []\n",
    "        temp_head = self.head\n",
    "        while temp_head is not None:\n",
    "            output.append(temp_head.item)\n",
    "            temp_head = temp_head.nextmap\n",
    "        return str(output)[1:-1] if return_list == False else output\n",
    "\n",
    "    def __getitem__(self, index):\n",
    "        return self.__str__(True)[index]\n",
    "    \n",
    "    def __len__(self):\n",
    "        return len(self.__str__(True))"
   ]
  },
  {
   "cell_type": "markdown",
   "metadata": {},
   "source": [
    "## Now let's use this Class and see how it works!"
   ]
  },
  {
   "cell_type": "code",
   "execution_count": 49,
   "metadata": {},
   "outputs": [
    {
     "name": "stdout",
     "output_type": "stream",
     "text": [
      "1, 2, 3, 4\n",
      "1, 2, 5, 3, 4\n",
      "1, 2, 5, 3, 4, 6\n"
     ]
    }
   ],
   "source": [
    "#Let's create the linked list and use the insert function\n",
    "LL = LinkedList()\n",
    "LL.insert(1)\n",
    "LL.insert(2)\n",
    "LL.insert(3)\n",
    "LL.insert(4)\n",
    "print(LL)\n",
    "LL.insert(5,2)\n",
    "print(LL)\n",
    "LL.insert(6, len(LL))\n",
    "print(LL)\n"
   ]
  },
  {
   "cell_type": "code",
   "execution_count": 50,
   "metadata": {},
   "outputs": [
    {
     "name": "stdout",
     "output_type": "stream",
     "text": [
      "6\n",
      "1, 2, 5, 3, 4\n",
      "2, 5, 3, 4\n",
      "2, 3, 4\n"
     ]
    }
   ],
   "source": [
    "#Now lets try to remove stuff from the list\n",
    "print(len(LL))\n",
    "LL.remove(len(LL)-1)\n",
    "print(LL)\n",
    "LL.remove()\n",
    "print(LL)\n",
    "LL.remove(1)\n",
    "print(LL)"
   ]
  },
  {
   "cell_type": "code",
   "execution_count": 53,
   "metadata": {},
   "outputs": [
    {
     "name": "stdout",
     "output_type": "stream",
     "text": [
      "-1\n",
      "1\n",
      "2, 3, 4\n"
     ]
    }
   ],
   "source": [
    "#Now searching functionality!\n",
    "print(LL.search(10))\n",
    "print(LL.search(3))\n",
    "print(LL)"
   ]
  },
  {
   "cell_type": "markdown",
   "metadata": {},
   "source": [
    "## Well, not just that! There are two more types of Linked Lists!\n",
    "\n",
    "Which are pretty easy to understand! Let's get to it. \n",
    "\n",
    "Double Linked Lists: Which has two pointers, one pointing to the next node and another one pointing to the last node. \n",
    "\n",
    "Circule Linked Lists: Which has only one pointer, but the very last pointer will point to back to the first node. \n",
    "\n",
    "The Implementions of them will be in the Advanced DS Subject"
   ]
  },
  {
   "cell_type": "markdown",
   "metadata": {},
   "source": [
    "Note, when implementating this on your own (which you should totally do! Try to understand the code and then try to code it up with using just your understanding of your class)\n",
    "\n",
    "You can remove the print statements in your implementation to make it look more professional! \n",
    "\n",
    "Soooo, off you go and try it on your own! You can do it!!!"
   ]
  },
  {
   "cell_type": "markdown",
   "metadata": {},
   "source": [
    "# Tree"
   ]
  },
  {
   "cell_type": "markdown",
   "metadata": {},
   "source": [
    "## What is it? \n",
    "\n",
    "Tree Datastructure is like, can you guess it? Like a Tree! The Node will be on the top are connected to the nodes below them like a Tree, let's look into it with an example!\n",
    "\n",
    "Now, Imagine there is one Big leaf at the top of the tree, which branches and sticks connecting the top leaf to the other leaves with food inside it. When the sunlight first hits the top leaf, it moves thru all of the branches and sticks and transfers this energy all over the tree. Now, coming to the tree datastructure, it's almost the same. But the leaves are called nodes (which also has data; data == food in the leaves) and the branches and sticks are known as edge and the mentioned top leaf is known as root node. \n",
    "\n",
    "      (A)\n",
    "      / \\\n",
    "    (D) (C)\n",
    "\n",
    " Here, the A is the Root Node and the nodes C and D are the Child Nodes. (A is also an parent node cuz it has two children i.e D and C. D and C are leaf nodes as they do not have kids.)\n",
    "\n",
    "          (1)\n",
    "          / \\\n",
    "        (2) (3)\n",
    "        / \\\n",
    "      (4) (5) \n",
    "    \n",
    "In that Tree, try to figure out the root node, the children/parent nodes and the leaf nodes. \n",
    "\n",
    "Answer: Root -> 1; Parent-> 1, 2 / Children -> 2, 3, 4, 5; Leaf -> 3, 4, 5\n",
    "\n",
    "(Another naming convention: Internal, Inner and External Nodes; If your node has atleast 1 child -> Internal node. If your node has 0 children -> External node. If your node has more than 1 children -> Inner/branch node.)\n",
    "\n",
    "## What can you do with it? \n",
    "\n",
    "Well, we could do a bunch of things with it, which are insertion, figuring how tall the tree is, Traversal of tree, Check if the tree is full/perfect/complete/balanced, Searching for any node. And there is a bunch of types of trees. We'lll see the implementation normal trees and Binary Search Trees.\n",
    "\n",
    "## What are these actually used for in the real world? \n",
    "\n",
    "The one thing application of tree is very frequently being used is in heap sort. \n",
    "\n",
    "Database Indexing: Well, your folders are in your desktop, which is in your Users folder, which is in the C:/ Drive. Doesn't this sound like an Tree? \n",
    "\n",
    "Graphical User Interfaces (GUI): GUI frameworks use Tree Structures to manage UI components hierarchically.\n",
    "\n",
    "AI: An AI method called Decision Tree, meant to solve problems such as classification uses Tree Structures.\n",
    "\n",
    "## Traversal and Tree types Visualization. \n",
    "\n",
    "Include graphics for inorder, preorder, postorder traversal, and then for complete/full/perfect/balanced trees \n",
    "\n",
    "## Now lets get to the implementation of an normal Tree (or Binary Tree)!"
   ]
  },
  {
   "cell_type": "code",
   "execution_count": 51,
   "metadata": {},
   "outputs": [],
   "source": [
    "#The below is the implementation of tree in Python. Let me explain how it works!\n",
    "class TreeError(Exception):\n",
    "     pass\n",
    "\n",
    "class TreeNode: #This is an Tree node, in any given tree, there can be many branches, but we're going for two branches, those being left and right. \n",
    "     def __init__(self,item):\n",
    "          self.data = item\n",
    "          self.left = None\n",
    "          self.right = None\n",
    "\n",
    "     #The below three functions are the traversal of trees. Instead of Code or explaination. Visualization is the best way to understand these! \n",
    "     #Refer to the Graphics given above!\n",
    "     def InOrder(self): #LDR RULE\n",
    "          if self.left:\n",
    "               self.left.InOrder()\n",
    "          print(self.data, end=' ')\n",
    "          if self.right:\n",
    "               self.right.InOrder()\n",
    "\n",
    "     def PostOrder(self): #LRD RULE\n",
    "          if self.left:\n",
    "               self.left.PostOrder()\n",
    "          if self.right:\n",
    "               self.right.PostOrder()\n",
    "          print(self.data, end=' ')\n",
    "\n",
    "     def PreOrder(self): #DLR RULE\n",
    "          print(self.data, end=' ')\n",
    "          if self.left:\n",
    "               self.left.PreOrder()\n",
    "          if self.right:\n",
    "               self.right.PreOrder()\n",
    "\n",
    "class BinaryTree:\n",
    "     def __init__(self):\n",
    "         self.root = None\n",
    "  \n",
    "     def insert(self, item, LorR): #To insert an node in this. Make note that this doesn't allow updation, just insertion. \n",
    "          #LorR's possible values; left, right, root\n",
    "          if LorR == 'root':\n",
    "               if self.root == None: #If root, checking if root is present and if so, raise error, if not update the root. \n",
    "                    self.root = TreeNode(item)\n",
    "               else:\n",
    "                    raise TreeError(\"Root is already in place\")\n",
    "                    return\n",
    "               \n",
    "          possible_places = {}\n",
    "          temp = self.root\n",
    "          nodes = self.findEmptyNodesLorR(temp,LorR) #This finds all the nodes which still can have children in the side mentioned in LorR variable\n",
    "          \n",
    "          for i in range(len(nodes)): #And this fetches the node's data to displaying purporces. \n",
    "               possible_places[i] = nodes[i].data\n",
    "               \n",
    "          if len(possible_places) > 0: #While there is possible nodes which can take the this new node. \n",
    "               \n",
    "               print(f'You are trying to insert {item} to the {LorR}\\nThese are possible values which you insert at: {possible_places}')\n",
    "               location = int(input('Please Insert the Key value:'))\n",
    "               \n",
    "               #After getting the location of insertion from the user, inserting it!\n",
    "               if LorR=='right':\n",
    "                    nodes[location].right = TreeNode(item)\n",
    "                    print(f\"Value:{item} is inserted as the Right Child of node: {nodes[location].data}\")\n",
    "                    return\n",
    "               if LorR == 'left':\n",
    "                    nodes[location].left = TreeNode(item)\n",
    "                    print(f\"Value:{item} is inserted as the Left Child of node: {nodes[location].data}\")\n",
    "                    return\n",
    "     \n",
    "     def Traverse(self,method): #To Traverse a Tree. \n",
    "          #method's possible values are IN, POST, PRE\n",
    "          if method=='PRE':\n",
    "               self.root.PreOrder()\n",
    "          elif method=='POST':\n",
    "               self.root.PostOrder()\n",
    "          elif method==\"IN\":\n",
    "               self.root.InOrder()\n",
    "\n",
    "     def checkTreeStatus(self,method): #To check if the tree is Full or Perfect or Complete or Balanced. \n",
    "          #Method's possible values are prefect, full, complete, balanced.\n",
    "          if method == 'full': #meaning each node has no children or two children\n",
    "               print(self.checkFull(self.root))\n",
    "               return\n",
    "          if method == 'prefect': #meaning every internal node has exactly two child nodes and all the leaf nodes are at the same level.\n",
    "               print(self.checkPrefect(self.root,self.findDepthFromNode(self.root)))\n",
    "               return\n",
    "          if method == 'complete': #meaning all leaf nodes are leaning to the left and are on the same left. \n",
    "               print(self.checkComplete(self.root, 0, self.NumberOfNodes(self.root)))\n",
    "               return\n",
    "          if method == 'balanced': #meaning the height difference from the root to the left and right most leaf nodes shouldn't more than 1\n",
    "               print(self.checkBalanced(self.root))\n",
    "               return\n",
    "         \n",
    "     def checkFull(self,node):\n",
    "          if node == None:\n",
    "               return True\n",
    "          if node.left == None and node.right == None: #If there is no childern on both left and right. \n",
    "               return True\n",
    "          if node.left != None and node.right != None: #If there is only two children on the node. \n",
    "               return (self.checkFull(node.left) and self.checkFull(node.right))\n",
    "          return False #If there is only one children on the node \n",
    "\n",
    "     def checkPrefect(self,node,depth,currentlevel = 0):\n",
    "          if node == None:\n",
    "               return True\n",
    "          if node.left is None and node.right is None: #If there is no childern. \n",
    "               return (depth == currentlevel + 1)\n",
    "          if (node.left is None or node.right is None): #If any one only children. \n",
    "               return False\n",
    "          return (self.checkPrefect(node.left,depth,currentlevel+1) and self.checkPrefect(node.right,depth,currentlevel+1)) #Checking both right and left. \n",
    "\n",
    "     def checkComplete(self,node,index,nNodes):\n",
    "          if node: #If node is present. \n",
    "               return True \n",
    "          if index >= nNodes: #if the index is greater than the number of nodes. \n",
    "               return False\n",
    "          return(self.checkComplete(node.left, 2 * index + 1, nNodes) and self.checkComplete(node.right, 2 * index + 2, nNodes))\n",
    "\n",
    "     def checkBalanced(self,node):\n",
    "          if node is None:\n",
    "               return 0\n",
    "          left_height = self.checkBalanced(node.left) #Checking left height\n",
    "          if left_height == -1:\n",
    "               return -1\n",
    "          right_height = self.checkBalanced(node.right) #Checking right height\n",
    "          if right_height == -1:\n",
    "               return -1\n",
    "          if abs(left_height - right_height) > 1: #If the height is greater than 1. \n",
    "               return -1\n",
    "          return max(left_height, right_height) + 1 #Default return state. \n",
    "\n",
    "\n",
    "     def findDepthFromNode(self,node): #To find the depth from any given node. \n",
    "          depth = 0\n",
    "          while node: #Checking if node is not none. \n",
    "               depth += 1\n",
    "               if node.left: #Moving to the left or right based and then updating node. \n",
    "                    node = node.left\n",
    "               elif node.right:\n",
    "                    node = node.right\n",
    "               else:\n",
    "                    break\n",
    "          return depth\n",
    "\n",
    "     def NumberOfNodes(self, node): #To count the number of nodes in the tree. \n",
    "          if node:\n",
    "               return (1 + self.NumberOfNodes(node.left) + self.NumberOfNodes(node.right))\n",
    "          else:\n",
    "               return 0\n",
    "         \n",
    "     def findEmptyNodesLorR(self, node, LorR): #To find the empty nodes in the left or right side. \n",
    "          if node is None: #If empty, returns None\n",
    "               return [] \n",
    "          if LorR == 'left' and node.left is None: #If Checking left but it's empty\n",
    "               return [node] + self.findEmptyNodesLorR(node.left, LorR) + self.findEmptyNodesLorR(node.right, LorR)\n",
    "          if LorR == 'right' and node.right is None: #If checking right but it's empty\n",
    "               return [node] + self.findEmptyNodesLorR(node.left, LorR) + self.findEmptyNodesLorR(node.right, LorR)\n",
    "          return self.findEmptyNodesLorR(node.left, LorR) + self.findEmptyNodesLorR(node.right, LorR) #Base condition"
   ]
  },
  {
   "cell_type": "markdown",
   "metadata": {},
   "source": [
    "## Now let's use this Class and see how it works!"
   ]
  },
  {
   "cell_type": "code",
   "execution_count": 49,
   "metadata": {},
   "outputs": [
    {
     "name": "stdout",
     "output_type": "stream",
     "text": [
      "You are trying to insert 2 to the left\n",
      "These are possible values which you insert at: {0: 1}\n",
      "Value:2 is inserted as the Left Child of node: 1\n",
      "You are trying to insert 21 to the left\n",
      "These are possible values which you insert at: {0: 2}\n",
      "Value:21 is inserted as the Left Child of node: 2\n",
      "You are trying to insert 3 to the right\n",
      "These are possible values which you insert at: {0: 1, 1: 2, 2: 21}\n",
      "Value:3 is inserted as the Right Child of node: 1\n",
      "You are trying to insert 4 to the right\n",
      "These are possible values which you insert at: {0: 2, 1: 21, 2: 3}\n",
      "Value:4 is inserted as the Right Child of node: 2\n"
     ]
    }
   ],
   "source": [
    "#Let us create the class and insert stuff into it. \n",
    "#Each time you try to insert, it will ask the user on where he should insert the node.\n",
    "Bt = BinaryTree()\n",
    "Bt.insert(1,'root')\n",
    "Bt.insert(2,'left')\n",
    "Bt.insert(21,'left')\n",
    "Bt.insert(3,'right')\n",
    "Bt.insert(4,'right')"
   ]
  },
  {
   "cell_type": "code",
   "execution_count": 53,
   "metadata": {},
   "outputs": [
    {
     "name": "stdout",
     "output_type": "stream",
     "text": [
      "1 2 21 4 3 "
     ]
    }
   ],
   "source": [
    "#Now let's try out the traversal as well\n",
    "Bt.Traverse(\"PRE\")"
   ]
  },
  {
   "cell_type": "code",
   "execution_count": 54,
   "metadata": {},
   "outputs": [
    {
     "name": "stdout",
     "output_type": "stream",
     "text": [
      "21 2 4 1 3 "
     ]
    }
   ],
   "source": [
    "Bt.Traverse(\"IN\")"
   ]
  },
  {
   "cell_type": "code",
   "execution_count": 55,
   "metadata": {},
   "outputs": [
    {
     "name": "stdout",
     "output_type": "stream",
     "text": [
      "21 4 2 3 1 "
     ]
    }
   ],
   "source": [
    "Bt.Traverse(\"POST\")"
   ]
  },
  {
   "cell_type": "markdown",
   "metadata": {},
   "source": [
    "You might notice that inserting and then traversal of the this type of tree is very hard, cuz it requires a lot of manual input for each insertion of each node. It takes even more effort to update or delete nodes, so usually people won't even do that. This binary tree is just to give you a quick overlook on how stuff works in terms of tree Data Structure. The important part which is actually being used in CS Industry is in BST! \n",
    "\n",
    "## ONWARD TO Binary Search Tree!\n",
    "\n",
    "What is it? When insert an node, it will get automatically gets into the tree without user input. Where the left node's value is less than the root value and the root value is less than the right node's value \n",
    "\n",
    "Left_Node > Root > Right_node\n",
    "\n",
    "## Now lets get to the implementation of BST!\n",
    "\n",
    "Note: Include Graphics explains the insertion and deletion processes"
   ]
  },
  {
   "cell_type": "code",
   "execution_count": 75,
   "metadata": {},
   "outputs": [],
   "source": [
    "#The below is the implementation of BST in Python. Let me explain how it works!\n",
    "class TreeError(Exception):\n",
    "     pass\n",
    "\n",
    "class TreeNode: #This is an Tree node, in any given tree, there can be many branches, but we're going for two branches, those being left and right. \n",
    "     def __init__(self,item):\n",
    "          self.data = item\n",
    "          self.left = None\n",
    "          self.right = None\n",
    "\n",
    "     #The below three functions are the traversal of trees. Instead of Code or explaination. Visualization is the best way to understand these! \n",
    "     #Refer to the Graphics given above!\n",
    "     def InOrder(self): #LDR RULE\n",
    "          if self.left:\n",
    "               self.left.InOrder()\n",
    "          print(self.data, end=' ')\n",
    "          if self.right:\n",
    "               self.right.InOrder()\n",
    "\n",
    "     def PostOrder(self): #LRD RULE\n",
    "          if self.left:\n",
    "               self.left.PostOrder()\n",
    "          if self.right:\n",
    "               self.right.PostOrder()\n",
    "          print(self.data, end=' ')\n",
    "\n",
    "     def PreOrder(self): #DLR RULE\n",
    "          print(self.data, end=' ')\n",
    "          if self.left:\n",
    "               self.left.PreOrder()\n",
    "          if self.right:\n",
    "               self.right.PreOrder()\n",
    "\n",
    "class BST:\n",
    "     def __init__(self):\n",
    "          self.root = None\n",
    "\n",
    "     def insert(self,item): #To insert an node. \n",
    "          if self.root == None: #If Root is empty, then update root\n",
    "               self.root = TreeNode(item)\n",
    "          else: #if not, then try to find where the given node is going to be placed.\n",
    "               self.addNode(self.root,item)\n",
    "              \n",
    "     def addNode(self,node,item): #Helper function to insert the node. \n",
    "          #This basically works like a stack. It starts from the Root and then goes to find where the new node should be\n",
    "          #and moves to one node by one node in the tree and stores it in the stack and once you get an None value, you return the new node object and \n",
    "          #and you rollback in recursive functions and update the entire set of branches accordingly. \n",
    "          if node is None: #If the input node is empty, then inserting the treenode. \n",
    "               return TreeNode(item)\n",
    "          if node:\n",
    "               if item < node.data: #If the given node is less than the current node.\n",
    "                    node.left = self.addNode(node.left,item) #then move to the left. \n",
    "               else: #If give node is greater than the current node. \n",
    "                    node.right = self.addNode(node.right,item) #then move to the right. \n",
    "          return node\n",
    "\n",
    "     def delete(self,item): #To delete an node. \n",
    "          self.deleteNode(self.root,item)\n",
    "              \n",
    "     def deleteNode(self, node, key): #Helper function to insert the node\n",
    "          if node is None: #If the node is none, then return \n",
    "               return node\n",
    "          #First, we gotta find where the node is:\n",
    "          if key < node.data: \n",
    "               node.left = self.deleteNode(node.left, key)\n",
    "          elif(key > node.data):\n",
    "               node.right = self.deleteNode(node.right, key)\n",
    "               #We now found the node!\n",
    "          else:\n",
    "               if node.left is None: #If the left is empty, then return the right. \n",
    "                    return node.right\n",
    "               elif node.right is None: #If the right is empty, then return the left. \n",
    "                    return node.left\n",
    "               temp = self.getMinValueNode(node.right) #And if the both are present. We have the minimun value from the right side of branches and \n",
    "               #replace this given node with that minimum Node. \n",
    "               node.data = temp.data\n",
    "               node.right = self.deleteNode(node.right, temp.data)\n",
    "          return node\n",
    "\n",
    "     def getMinValueNode(self, node): #Helper function to find the least value from an node\n",
    "          if node is None or node.left is None: #If both the node or the node's left branch is None, then return the node. \n",
    "               return node\n",
    "          return self.getMinValueNode(node.left)\n",
    "               \n",
    "     def search(self,item): #To Look for an value. \n",
    "          if self.root: #If root is there. if not, then return error\n",
    "               indx = self.lookValue(self.root,item,0) #Finding the depth of the node that we looked for. \n",
    "               if indx != -1: #If it's not -1, then the node is present in the tree\n",
    "                    print(f\"The value is found at depth:{indx}\")\n",
    "               else: #If indx == -1, then the node is not present in the tree\n",
    "                    raise TreeError(\"The value is not found\")\n",
    "          else:\n",
    "               raise TreeError(\"BST is empty\")\n",
    "\n",
    "     def lookValue(self,node,item, currentdepth):\n",
    "          if node is None: #if given node is empty; return -1\n",
    "               return -1 \n",
    "          else:\n",
    "               if item < node.data: #Check the our node which we searching is less or greater than the given current node.\n",
    "                    return self.lookValue(node.left,item,currentdepth+1) #Move accordingly and increse currentdepth by 1 as we are moving down the tree\n",
    "               elif item > node.data:\n",
    "                    return self.lookValue(node.right,item,currentdepth+1)\n",
    "               else: #if the searching node == current given node, then return the depth\n",
    "                    return currentdepth\n",
    "     \n",
    "     def Traverse(self,method): #This is the same function as before\n",
    "          if method=='PRE':\n",
    "               self.root.PreOrder()\n",
    "          elif method=='POST':\n",
    "               self.root.PostOrder()\n",
    "          elif method==\"IN\":\n",
    "               self.root.InOrder()"
   ]
  },
  {
   "cell_type": "markdown",
   "metadata": {},
   "source": [
    "## Now let's use this Class and see how it works!"
   ]
  },
  {
   "cell_type": "code",
   "execution_count": 76,
   "metadata": {},
   "outputs": [
    {
     "name": "stdout",
     "output_type": "stream",
     "text": [
      "1 34 40 94 99 "
     ]
    }
   ],
   "source": [
    "#Let us create the object, insert a few nodes and then use traversal methods\n",
    "Bst = BST()\n",
    "Bst.insert(94)\n",
    "Bst.insert(99)\n",
    "Bst.insert(34)\n",
    "Bst.insert(1)\n",
    "Bst.insert(40)\n",
    "\n",
    "Bst.Traverse('IN')"
   ]
  },
  {
   "cell_type": "code",
   "execution_count": 77,
   "metadata": {},
   "outputs": [
    {
     "name": "stdout",
     "output_type": "stream",
     "text": [
      "The value is found at depth:1\n",
      "The value is found at depth:2\n",
      "The value is found at depth:1\n",
      "The value is found at depth:0\n",
      "1 40 94 99 "
     ]
    }
   ],
   "source": [
    "#Now let's trying searching for values and then delete an node and see how the traversal works\n",
    "Bst.search(34)\n",
    "Bst.search(40)\n",
    "Bst.search(99)\n",
    "Bst.search(94)\n",
    "\n",
    "Bst.delete(34)\n",
    "\n",
    "Bst.Traverse('IN')"
   ]
  },
  {
   "cell_type": "code",
   "execution_count": 78,
   "metadata": {},
   "outputs": [
    {
     "name": "stdout",
     "output_type": "stream",
     "text": [
      "1 40 99 94 "
     ]
    }
   ],
   "source": [
    "#Let's postfix traversal as well!\n",
    "Bst.Traverse('POST')"
   ]
  },
  {
   "cell_type": "markdown",
   "metadata": {},
   "source": [
    "## There's more! \n",
    "\n",
    "Well, that's not everyone, there are many other tree types such as AVL, B-, B+, Min heap, Max heap and so on! We'll learn all of them in Advanced Data Structures Subject. \n",
    "\n",
    "Note, when implementating this on your own (which you should totally do! Try to understand the code and then try to code it up with using just your understanding of your class)\n",
    "\n",
    "Soooo, off you go and try it on your own! You can do it!!!"
   ]
  },
  {
   "cell_type": "markdown",
   "metadata": {},
   "source": [
    "# Graph"
   ]
  },
  {
   "cell_type": "markdown",
   "metadata": {},
   "source": [
    "## What is it? \n",
    "\n",
    "Graph is basically like tree. But it has doesn't have like hierarchy like how Tress do (Tress start off from a root and then goes down in branches and in BST, tree's nodes can have only 2 branches). Here, the node can have any connection with any other node and it will works. \n",
    "\n",
    "There is two types called weighted and unweighted where the connections have some weight/cost to them to travel from one to another node, then it's weighted, if not then it's unweighted.\n",
    "\n",
    "But in the case of Trees, we would call the data as nodes, and they connected via branches. But here, the data is known as vertices and they are connected via Edges. \n",
    "\n",
    "## What can you do with it? \n",
    "\n",
    "Well, insertion and deletion of vertices and edges and representation of these vertices and edges in two methods, Adjacency Matrix and Adjacency List. \n",
    "\n",
    "## What are these actually used for in the real world? \n",
    "\n",
    "With Graphs is how google maps work. The places are vertices and the distance between vertices are weights and you can find the shortest path from vertice A to vertice B\n",
    "\n",
    "With algorthims based on Graphs such as Dijkstra's, the emeny characters in the video games pathfind to your character. \n",
    "\n",
    "And with Graphs, the use cases are endless, just like with other DS \n",
    "\n",
    "## Now lets get to the implementation!"
   ]
  },
  {
   "cell_type": "code",
   "execution_count": 31,
   "metadata": {},
   "outputs": [],
   "source": [
    "#The below is the implementation of graph in Python. Let me explain how it works!\n",
    "class GraphError(Exception):\n",
    "    pass\n",
    "\n",
    "class Graph:\n",
    "    def __init__(self, vertices):\n",
    "        #Well, the adj here is the Adjacency matrix. Here's how it works. \n",
    "        #If the Vertices are 0,1,2 and 1,2 and 0,1 are connected, here's how you represent it. \n",
    "        #[0, 1, 0] this list is for 0, and it is has 3 values, corresponding to the 3 other vertices. first val is 0 cuz a vertice can't be connected to itself (it can be, but assume it isn't) and the 2nd value is 1 cuz it corresponses to vertice 1 and it's connected and the last val is for vertice 2 and it's 0 cuz not connected. \n",
    "        #[1, 0, 1] this list is for 1, and since it's connected to 0 and 2, we have 1's in those index.\n",
    "        #[0, 1, 0] and this list is for 2, and since it's connected to 1, we got 1 in that index.\n",
    "        \n",
    "        #If we have weights in that graph, then it'll be an nested list. Like this. \n",
    "        #[[0,0], [1,1], [0,0]] Here, we got nested list in each index, the first element will be 1 if connected with the index of that corresponding vertice (0, if not) and the 2nd element will have weight of that connection (if no connection, then value would be 0)\n",
    "        #[[1,1], [0,0], [1,1]]\n",
    "        #[[0,0], [1,1], [0,0]]\n",
    "        \n",
    "        \n",
    "        #The self.adj has a nested list like that, which we fill it with 0's at the moment because we haven't start adding in edges. \n",
    "        self.adj = [[ [0, 0] for _ in range(len(vertices))] for _ in range(len(vertices))] \n",
    "        #And this has the list of vertices \n",
    "        self.vertices = vertices\n",
    "        \n",
    "    def AddEdge(self, startKey, endKey, weight = 1, direction = 'B'):  #This adds/updates edges(i.e connections) within the vertices that are alreasy been mentioned \n",
    "        # Consider using weights if needed. If there edge is already there but you just need to edit the weights, you can do that aswell.\n",
    "        # Direction: B means both way. S means it will go from start to end. and E means it will go from end to start. \n",
    "        \n",
    "        if startKey in self.vertices and endKey in self.vertices: #Making sure both start and end nodes are in the vertices.\n",
    "            start = self.vertices.index(startKey) #Getting the index of both start and end nodes. \n",
    "            end = self.vertices.index(endKey)\n",
    "            \n",
    "            #And depending the direction, we are creating the edge. \n",
    "            if direction.upper() == \"B\":\n",
    "                self.adj[start][end] = [1, weight]\n",
    "                self.adj[end][start] = [1, weight]  # This line is redundant if you're not using weights\n",
    "                return\n",
    "            if direction.upper() == \"S\":\n",
    "                self.adj[start][end] = [1, weight]\n",
    "                return \n",
    "            if direction.upper() == \"E\":\n",
    "                self.adj[end][start] = [1, weight]\n",
    "                return\n",
    "            raise GraphError(f\"Invalid direction: {direction}\") #Error for not having the correct direction (Note, the direction parameter is optional)\n",
    "        else:\n",
    "            #Error for inputting keys that are not in the vertices\n",
    "            raise GraphError(f\"One or both of the keys {startKey}, {endKey} are not in the vertices.\")\n",
    "        \n",
    "    def DelEdge(self, startKey, endKey): #To delete an edge\n",
    "        #Well, to delete the edge, we just need edit the edges in the self.adj to [0,0]\n",
    "        \n",
    "        if startKey in self.vertices and endKey in self.vertices:\n",
    "            start = self.vertices.index(startKey)\n",
    "            end = self.vertices.index(endKey)\n",
    "            self.adj[start][end] = [0, 0]\n",
    "            self.adj[end][start] = [0, 0]\n",
    "        else:\n",
    "            raise GraphError(f\"One or both of the keys {startKey}, {endKey} are not in the vertices.\")\n",
    "    \n",
    "    def AddVertice(self, vertice): #To remove a vertice \n",
    "        #Making sure that the vertice is not already in the graph, if so, raising an error\n",
    "        if vertice not in self.vertices:\n",
    "            self.vertices.append(vertice)\n",
    "            for i in range(len(self.adj)):\n",
    "                #This forloop is to update another col for each vertice. \n",
    "                self.adj[i].append( [0, 0] )\n",
    "            #And this is to update another row in the bottom of the self.adj\n",
    "            self.adj.append([[0, 0] for _ in range(len(self.vertices))])\n",
    "        else:\n",
    "            raise GraphError(f\"Given vertice: {vertice} is already in the graph.\")\n",
    "    \n",
    "    def DelVertice(self, vertice): #To remove a vertice\n",
    "        #Making sure that the vertice is in the graph\n",
    "        if vertice in self.vertices:\n",
    "            toRemove = self.vertices.index(vertice)\n",
    "            self.adj.pop(toRemove) #To remove the vertice's row \n",
    "            self.vertices.remove(vertice)\n",
    "            for i in range(len(self.adj)):\n",
    "                self.adj[i].pop(toRemove) #To remove the vertice's col from every other vertice\n",
    "        else:\n",
    "            raise GraphError(f\"Given vertice: {vertice} is not in the graph.\")\n",
    "                \n",
    "    def displayGraph(self): #To display the AdjList. \n",
    "        #We're just just printing the self.adj but making it prettier. \n",
    "        #If you want to see the plain self.adj, you can call that from the object instantiation. \n",
    "        for i in range(len(self.adj)):\n",
    "            print(str(self.vertices[i]) + \" : \"  + str(self.adj[i]))\n",
    "    \n",
    "    def displayAdjencyList(self): #To RETURN the Adjacency List\n",
    "        #Let's take the example from before: the vertices are 0,1,2 and 1,2 and 0,1 are connected\n",
    "        #The Adjacenty matrix will be like this: \n",
    "        # {\n",
    "        #     0 : [[1, 1]], the vertice 0 is connected to vertice 1 with weight 1\n",
    "        #     1 : [[0, 1], [2, 1]], the vertice 1 is connected to vertice 0, 2 with weight 1 each\n",
    "        #     2 : [[1, 1]], the vertice 2 is connected to vertice 1 with weight 1 \n",
    "        # } the formate is {vertice1: [[vertice2, weight_of_the_edge],...], ...}\n",
    "        AdjencyList = {}\n",
    "        for i in range(len(self.adj)):\n",
    "            keyV = self.vertices[i]\n",
    "            keyVList = []\n",
    "            for j in range(len(self.adj[i])):\n",
    "                if self.adj[i][j][0] == 1:\n",
    "                    keyVList.append([self.vertices[j] , self.adj[i][j][1]])\n",
    "            AdjencyList[keyV] = keyVList\n",
    "        return AdjencyList      \n",
    "        \n",
    "    #The below tw0 function are just helper functions which will makes our understanding easier.   \n",
    "    def displayKey(self):\n",
    "        print(self.vertices)\n",
    "    \n",
    "    def __len__(self):\n",
    "        return len(self.adj)"
   ]
  },
  {
   "cell_type": "markdown",
   "metadata": {},
   "source": [
    "## Now let's use this Class and see how it works!"
   ]
  },
  {
   "cell_type": "code",
   "execution_count": 40,
   "metadata": {},
   "outputs": [
    {
     "name": "stdout",
     "output_type": "stream",
     "text": [
      "3 : [[0, 0], [1, 1], [0, 0]]\n",
      "1 : [[1, 1], [0, 0], [1, 1]]\n",
      "5 : [[0, 0], [1, 1], [0, 0]]\n",
      "----------------------------------------\n",
      "Before adding vertice:3\n",
      "After adding vertice:4\n",
      "Graph Right Now:\n",
      "3 : [[0, 0], [1, 1], [0, 0], [0, 0]]\n",
      "1 : [[1, 1], [0, 0], [1, 1], [0, 0]]\n",
      "5 : [[0, 0], [1, 1], [0, 0], [0, 0]]\n",
      "2 : [[0, 0], [0, 0], [0, 0], [0, 0]]\n"
     ]
    }
   ],
   "source": [
    "#Let's create the class, add a few edges and some  \n",
    "G = Graph([3,1,5])\n",
    "G.AddEdge(3, 1)\n",
    "G.AddEdge(1, 5)\n",
    "G.displayGraph()\n",
    "print('-' * 40)\n",
    "print(f\"Before adding vertice:{len(G)}\")\n",
    "G.AddVertice(2)\n",
    "print(f\"After adding vertice:{len(G)}\")\n",
    "print(\"Graph Right Now:\")\n",
    "G.displayGraph()"
   ]
  },
  {
   "cell_type": "code",
   "execution_count": 41,
   "metadata": {},
   "outputs": [
    {
     "name": "stdout",
     "output_type": "stream",
     "text": [
      "3 : [[0, 0], [1, 1], [0, 0], [0, 0]]\n",
      "1 : [[1, 1], [0, 0], [1, 1], [1, 12]]\n",
      "5 : [[0, 0], [1, 1], [0, 0], [1, 10]]\n",
      "2 : [[0, 0], [1, 12], [0, 0], [0, 0]]\n"
     ]
    }
   ],
   "source": [
    "#Let's add a vertice with some weight and some are direction.\n",
    "G.AddEdge(1,2, weight = 12)\n",
    "G.AddEdge(2,5, weight = 10, direction = 'e')\n",
    "G.displayGraph()"
   ]
  },
  {
   "cell_type": "code",
   "execution_count": 42,
   "metadata": {},
   "outputs": [
    {
     "name": "stdout",
     "output_type": "stream",
     "text": [
      "Before deleting vertice:4\n",
      "After deleting vertice:3\n",
      "Graph Right Now:\n",
      "1 : [[0, 0], [1, 1], [1, 12]]\n",
      "5 : [[1, 1], [0, 0], [1, 10]]\n",
      "2 : [[1, 12], [0, 0], [0, 0]]\n"
     ]
    }
   ],
   "source": [
    "#Let's delete a vertice and see how that works\n",
    "print(f\"Before deleting vertice:{len(G)}\")\n",
    "G.DelVertice(3)\n",
    "print(f\"After deleting vertice:{len(G)}\")\n",
    "print(\"Graph Right Now:\")\n",
    "G.displayGraph()"
   ]
  },
  {
   "cell_type": "markdown",
   "metadata": {},
   "source": [
    "# HashMaps"
   ]
  },
  {
   "cell_type": "markdown",
   "metadata": {},
   "source": [
    "## What is it? \n",
    "\n",
    "If you tried out Python, you should be fimilar with Dictionary. HashMap is literally that! It's an set of data in the form of Key:Value pairs. \n",
    "\n",
    "But rather than the simiplifed version of Hashmaps in Python, actual Hashmaps are slightly different to implement as they use something called as Hashing. \n",
    "\n",
    "What does it mean to do Hashing? Well, you take the Key and you turn it into index value (Using something called Hash Function; You'll understand it better as you implement) and this index is used to store and retrieve data from an List. \n",
    "\n",
    "But what if two keys give you the same Index Value? Then you create an Linked List in that index value of the list and then contain both values. \n",
    "\n",
    "## What can you do with it? \n",
    "\n",
    "Well, Hashing functions to produce hashed index values is only new task that we need to do here. Apart from that, we have already learnt how do to insertion, deletion and modifications. \n",
    "\n",
    "## What are these actually used for in the real world? \n",
    "\n",
    "I don't think there is a set of great applications of hash maps, it's used everywhere. It's great because usually the hash function will evenly speard the data points along the array and doesn't require traversing Linked Lists, and thus taking less time for all tasks (i.e fetching, insertion, deletion, modifications; takes O(1) time complexity) and even in the worse case, the time it takes scales linearly with the size of the list (O(N) time complexity)\n",
    "\n",
    "It's so fast, that usually cache systems use hashmaps!\n",
    "\n",
    "## Now lets get to the implementation!"
   ]
  },
  {
   "cell_type": "code",
   "execution_count": 14,
   "metadata": {},
   "outputs": [],
   "source": [
    "#The below is the implementation of hashmaps in Python. Let me explain how it works!\n",
    "class HashMapError(Exception):\n",
    "    pass\n",
    "\n",
    "class Node: #So, We're have the key, the data and if there are mulitple values in the same key, we'll form a linked list using the next variable. \n",
    "    def __init__(self, key, val):\n",
    "        self.key = key\n",
    "        self.val = val\n",
    "        self.next = None\n",
    "        \n",
    "class HashTable: \n",
    "    def __init__(self, maxx): #We're setting an limit as our list size. the table holds values while the size just helps us to find how many \n",
    "        #values are currently in the hashmap. Because if the size is a lot more than the max limit. then we should move the max limit higher.  \n",
    "        self.size = 0\n",
    "        self.max = maxx\n",
    "        self.table = maxx * [None] #This produces an list full of None values. \n",
    "        \n",
    "    def hashing(self, key): #This basically takes in the key and then returns the index value of your key. \n",
    "        #How this works is that, there is hash() function inbuilt in python and we are using that along with % by self.max so that every time \n",
    "        #the hashed index value goes out of the capacity, it will be looped back within the capacity.\n",
    "        return key % self.max\n",
    "    \n",
    "    def insert(self, key, value): #And this will insert the key:value pair into your list or to Update your key:value pair\n",
    "        hashed = self.hashing(key) #To get the Hashed Index of your key. \n",
    "        \n",
    "        if self.table[hashed] is None: #Checking if that index spot is free?\n",
    "            self.table[hashed] = Node(key,value) #If so, then the work is ez, we just set the value to that index\n",
    "            self.size += 1 #Increase the size \n",
    "            return #And Return \n",
    "        else: #If that index spot isn't free, then we gotta go loop thru the linked List to insert the value. \n",
    "            current = self.table[hashed]\n",
    "            \n",
    "            #The Below Logic is for Looping to find our key and Update the value, or to Insert the new Key:Value Pair\n",
    "            buffer = Node(None, None) \n",
    "            buffer.next = current\n",
    "            current = buffer\n",
    "            #What this does is buffering. if the Current List has a len of 1. you start of with sent1 - current1 - none. Sent1 will check for its next \n",
    "            #and check key and then move to current1 and it will check the next and given that it's none, it goes to change that by linking the new node\n",
    "            while current.next:\n",
    "                if current.next.key == key: #Checking if the current has the same key as what we are trying to check with. \n",
    "                    #if it already exists, then we are updating the values. \n",
    "                    current.next.val = value\n",
    "                    return\n",
    "                current = current.next\n",
    "            #Now the current has the last node, and we checked all the nodes in the linked list with no matches,\n",
    "            #So inserting the new node in the end of the linked list.\n",
    "            current.next = Node(key, value)\n",
    "            self.size += 1\n",
    "            \n",
    "    def remove(self, key): #This is to remove the key:value pair.\n",
    "        hashed = self.hashing(key) #I think you know what this means!\n",
    "        \n",
    "        current = self.table[hashed] #Finding the current value in that index. \n",
    "        \n",
    "        #And looping thru the linked List. If it's not linked list but there is just one value, then this logic should still work\n",
    "        #because using the buffer node, we're setting up a dummy node in the front, thus it should form a linked list now!\n",
    "        buffer = Node(None, None)\n",
    "        buffer.next = current\n",
    "        current = buffer\n",
    "        \n",
    "        while current.next:\n",
    "            if current.next.key == key: #And we found the key that we were looking for!\n",
    "                if current.next == self.table[hashed]: #Maybe if we are trying to remove the head of the linked list\n",
    "                    self.table[hashed] = current.next.next\n",
    "                else: #If it's not an the head, then we gotta skip over that node. \n",
    "                    current.next = current.next.next\n",
    "                self.size -= 1 #Update size. \n",
    "                return \n",
    "            current = current.next \n",
    "        \n",
    "        raise HashMapError(key) #And if it didn't return within that while loop, then the key:value didn't exist.\n",
    "            \n",
    "    def search(self, key): #To search for an value using the key\n",
    "        #This logic is very similar to the remove function but without deleting nodes part! Try to understand it on your own!\n",
    "        hashed = self.hashing(key)\n",
    "        \n",
    "        current = self.table[hashed]\n",
    "        \n",
    "        while current:\n",
    "            if current.key == key:\n",
    "                return current.val\n",
    "            current = current.next\n",
    "            \n",
    "        raise HashMapError(key)\n",
    "    \n",
    "    def display(self):\n",
    "        print(\"Hash Table Contents:\")\n",
    "        print(\"-\" * 40)\n",
    "        for i in range(self.max):\n",
    "            current = self.table[i]\n",
    "            entered_loop = False\n",
    "            while current:\n",
    "                entered_loop = True\n",
    "                print(f\"Key: {current.key}, Value: {current.val}\")\n",
    "                current = current.next\n",
    "            if not entered_loop:\n",
    "                print(f'None in this index')\n",
    "            print(\"-\" * 40)\n",
    "    \n",
    "    def __len__(self):\n",
    "        return self.size "
   ]
  },
  {
   "cell_type": "markdown",
   "metadata": {},
   "source": [
    "## Now let's use this Class and see how it works!"
   ]
  },
  {
   "cell_type": "code",
   "execution_count": 15,
   "metadata": {},
   "outputs": [
    {
     "name": "stdout",
     "output_type": "stream",
     "text": [
      "Hash Table Contents:\n",
      "----------------------------------------\n",
      "None in this index\n",
      "----------------------------------------\n",
      "Key: 1, Value: 1\n",
      "Key: 11, Value: 3\n",
      "Key: 21, Value: 4\n",
      "----------------------------------------\n",
      "None in this index\n",
      "----------------------------------------\n",
      "None in this index\n",
      "----------------------------------------\n",
      "None in this index\n",
      "----------------------------------------\n",
      "None in this index\n",
      "----------------------------------------\n",
      "None in this index\n",
      "----------------------------------------\n",
      "None in this index\n",
      "----------------------------------------\n",
      "None in this index\n",
      "----------------------------------------\n",
      "None in this index\n",
      "----------------------------------------\n"
     ]
    }
   ],
   "source": [
    "#Let's create the class, and then insert a few values and then see how it works!\n",
    "#In the our insertion, we're inserting in keys which will return in the same hashed index value \n",
    "hashmap = HashTable(10)\n",
    "hashmap.insert(1, 1)\n",
    "hashmap.insert(11, 3)\n",
    "hashmap.insert(21, 4)\n",
    "hashmap.display()"
   ]
  },
  {
   "cell_type": "code",
   "execution_count": 16,
   "metadata": {},
   "outputs": [
    {
     "name": "stdout",
     "output_type": "stream",
     "text": [
      "Hash Table Contents:\n",
      "----------------------------------------\n",
      "Key: 0, Value: 0\n",
      "----------------------------------------\n",
      "Key: 1, Value: 12\n",
      "Key: 11, Value: 3\n",
      "Key: 21, Value: 4\n",
      "----------------------------------------\n",
      "None in this index\n",
      "----------------------------------------\n",
      "None in this index\n",
      "----------------------------------------\n",
      "None in this index\n",
      "----------------------------------------\n",
      "None in this index\n",
      "----------------------------------------\n",
      "None in this index\n",
      "----------------------------------------\n",
      "None in this index\n",
      "----------------------------------------\n",
      "None in this index\n",
      "----------------------------------------\n",
      "None in this index\n",
      "----------------------------------------\n"
     ]
    }
   ],
   "source": [
    "#Let's update a value and insert another value in different hashed index value\n",
    "\n",
    "hashmap.insert(1,12)\n",
    "hashmap.insert(0,0)\n",
    "hashmap.display()"
   ]
  },
  {
   "cell_type": "code",
   "execution_count": 17,
   "metadata": {},
   "outputs": [
    {
     "name": "stdout",
     "output_type": "stream",
     "text": [
      "4\n"
     ]
    }
   ],
   "source": [
    "#Now we find the list of items in our HashMao\n",
    "print(len(hashmap))"
   ]
  }
 ],
 "metadata": {
  "kernelspec": {
   "display_name": "base",
   "language": "python",
   "name": "python3"
  },
  "language_info": {
   "codemirror_mode": {
    "name": "ipython",
    "version": 3
   },
   "file_extension": ".py",
   "mimetype": "text/x-python",
   "name": "python",
   "nbconvert_exporter": "python",
   "pygments_lexer": "ipython3",
   "version": "3.8.0"
  }
 },
 "nbformat": 4,
 "nbformat_minor": 2
}
