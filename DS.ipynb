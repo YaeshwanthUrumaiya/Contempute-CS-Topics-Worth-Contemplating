{
 "cells": [
  {
   "cell_type": "code",
   "execution_count": null,
   "metadata": {},
   "outputs": [],
   "source": [
    "print(\"Hello\")"
   ]
  },
  {
   "cell_type": "markdown",
   "metadata": {},
   "source": [
    "# What is a Data Structure?\n",
    "\n",
    "In CS, Data is king and when dealing with large number of number, you need a way to safely store them in such a way that you can access them quickly. Thus, people figured out various ways to store, fetch and edit data in the quickest way possible. It helps us manage our computing resources as effective as possible. \n",
    "\n",
    "## Okay, but why is it so important? \n",
    "\n",
    "### Effective:\n",
    "Using Data Structures to store data is very effective and since certain tasks will perform way better when handled using certain data structures. For example, if you were to handle the marks of all the students in your entire university and have to find the average mark of your university. Having the answer sheets piled up on your table would be very bulky to manage and calcalute the marks. Whereas just having the ID of the student and their marks on an excel sheet would be far better. In this task, the data stored in all of those answer sheets can be used to find the average. But differnt way of storing the same information will aid the task to be completed in mere secounds.  \n",
    "\n",
    "Moreover, you can save your energy and time (i.e resources) when using the right data structure for the right task.\n",
    "\n",
    "## Scalability: \n",
    "Imainge the same situtaion of finding the average. What if 300 students didn't attend the exam and then university conducted retest for them and then you have another 300 answer sheets on your desk to calcalute, wouldn't that be frustrating? If using excel, it's just 300 more rows and you can still use the same method and complete the task. So when your data is getting bigger and bigger over them, the right data structure should still be able to handle the task as effective as possible. \n",
    "\n",
    "## Real World Application: \n",
    "Every application and process in any of your device would have some sort of data in them and all of those data are stored by some structured method. Finding which data structure to use for which task is cruical because it could end up making a huge difference as we learnt for the example. Thus, learning the pros, cons and the implementation along with their applications of the most used data structures is necessary. "
   ]
  },
  {
   "cell_type": "markdown",
   "metadata": {},
   "source": [
    "# Stack"
   ]
  },
  {
   "cell_type": "markdown",
   "metadata": {},
   "source": [
    "## What is it?\n",
    "\n",
    "Imagine a stack of books on your table right now. Each book is an element in your stack, and each element have some infomation/data in them. \n",
    "\n",
    "Now, if you were to add a book, you're going to add it to the top. And if you're going to remove a book, you're going to remove from the top. \n",
    "\n",
    "So if there is three books in the stack, BookA, BookB, BookC. If you want to add BookD. the stack would be something like this:\n",
    "\n",
    "BookD\n",
    "BookC\n",
    "BookB\n",
    "BookA\n",
    "\n",
    "and if you want to take the BookB, since all of the books very heavy, you're going to remove the BookD, BookC and then take BookB.\n",
    "\n",
    "The most recent book BookD gets removed first in a stack. Thus the name Last In, First Out is coined. \n",
    "\n",
    "The book that enters the stack last will get exited first cuz there is only way of enter, which is the top. \n",
    "\n",
    "## What can you do with this? \n",
    "\n",
    "Well, you can add an element, and remove an element the stack. You can also take a peek at the top most element in the stack and check if the stack is empty or is all filled up. \n",
    "\n",
    "## What can you actually do with this? \n",
    "\n",
    "A whole concept called recusive functions is based on stacks. \n",
    "\n",
    "You can find the edits made to a file and store them in a stack and use it to undo/redo the changes. (Try to visualize how it would work.)\n",
    "\n",
    "Another task called InFix and PostFix conversion can be done.\n",
    "\n",
    "and so much more, some which we will see in the applications of data structure!\n",
    "\n",
    "## Now lets get to the implementation!"
   ]
  },
  {
   "cell_type": "code",
   "execution_count": 4,
   "metadata": {},
   "outputs": [],
   "source": [
    "#The below is the implementation of stack in Python. Let me explain how it works!\n",
    "\n",
    "class stackError(Exception):\n",
    "    # to handle errors in the class below\n",
    "    pass\n",
    "\n",
    "class STACK():\n",
    "    def __init__(self,limit):\n",
    "        self.stack=[]\n",
    "        self.limit = limit\n",
    "        self.top=-1\n",
    "        #So this is the __init__ function, will figure out what is the max limit of elements that our stack can handle and we are setting up the parameters here to use later. \n",
    "        #stack -> have all of the elements in our stack. \n",
    "        #limit -> has the max limit of elements which we can have in our stack, which is given by the user. \n",
    "        #top -> it's a counter which keeps track on where is our top most element is. \n",
    "    \n",
    "    def CheckEmpty(self): #Here, we're trying to check the length is 0 and if so, it will return True, if not, it'll return False. \n",
    "        return len(self.stack) == 0\n",
    "    \n",
    "    def CheckFull(self): #Since we know the limit of the stack, we can do a simple if statement and return if our stack is full or not.\n",
    "        return len(self.stack) == self.limit\n",
    "    \n",
    "    #How does the self.stack work? When take that stack of book example and instead of it being from the bottom to top, flip it onto it's side and we're going from left to right. \n",
    "    #(Like a bookshelf slowly getting filled up form the left to right. But you're restricted to only take the right most book because we're using a stack but visualizing it differently) \n",
    "    #DEVNOTE: Include images here to better explain.  \n",
    "     \n",
    "    def Push(self,item): #Here, lets push an element into the stack (adding an element into the stack) \n",
    "        # We are getting the item which we're going to add into the stack as a parameter. \n",
    "        \n",
    "        if not self.CheckFull(): #and making sure that the stack isn't full\n",
    "            self.stack.append(item) # and appending the item to the stack (adding to the right.)\n",
    "            self.top +=1 #and making sure that the top is tracking the rightmost book in the bookshelf. \n",
    "            print(f\"Pushed Item %s; Top-Position now: %d\"%(str(item),self.top)) \n",
    "        else: #If the stack is full, we are going to raise an error. \n",
    "            raise stackError(\"Can't push; The Stack is full\")\n",
    "    \n",
    "    def Pop(self): #Here, lets pop an element from the stack (removing an element from the stack)\n",
    "        if self.CheckEmpty(): #making sure that the stack isn't empty and if it is, raising an error\n",
    "            raise stackError(\"Can't pop; Empty Stack\") \n",
    "        else:\n",
    "            val = self.stack.pop() #here, we are removing the right most book for the bookshelf and changing the top variable to track the bookshelf correctly\n",
    "            self.top -= 1\n",
    "            print(f\"Popped Item from Stack! Top-Position now: %d\"%(self.top))\n",
    "            return val\n",
    "            \n",
    "    def Peek(self): #Here, we're just looking at the top element in our stack\n",
    "        if not self.CheckEmpty():\n",
    "            return self.stack[self.top]\n",
    "        else:\n",
    "            raise stackError(\"The stack is empty!\")\n",
    "            \n",
    "    #The below two function are just helper functions which will makes our understanding easier. \n",
    "    def __str__(self):\n",
    "        out = \"\\n\".join(str(i) for i in self.stack[::-1])\n",
    "        return out\n",
    "    \n",
    "    def __getitem__(self, index):\n",
    "        return self.stack[::-1][index]\n",
    "    \n",
    "    def __contains__(self, key):\n",
    "        if key in self.stack:\n",
    "            return True\n",
    "        else:\n",
    "            return False\n",
    "    \n",
    "# Note: We can just use len(stack) instead of top variable. But we are using top because len() can never be -1; the stack can never be empty (if you can't figure out why is that, \n",
    "# please try to understand how top variable behaves when the stack is empty and when stack has 1 element in it. Try to understand what is the top variable is tracking)\n",
    "\n",
    "# And, in other languages like C, using top is more effective than find the length of something, so thus when transitioning to those languages, the switch will be a bit easier to follow because \n",
    "# we used stuff like top variable here to being with!"
   ]
  },
  {
   "cell_type": "markdown",
   "metadata": {},
   "source": [
    "## Now let's use this Class and see how it works!"
   ]
  },
  {
   "cell_type": "code",
   "execution_count": 5,
   "metadata": {},
   "outputs": [
    {
     "name": "stdout",
     "output_type": "stream",
     "text": [
      "5\n"
     ]
    }
   ],
   "source": [
    "#Let's create the stack \n",
    "li = list(\"Hello\")\n",
    "stack = STACK(len(li))\n",
    "print(stack.limit) "
   ]
  },
  {
   "cell_type": "code",
   "execution_count": 6,
   "metadata": {},
   "outputs": [
    {
     "name": "stdout",
     "output_type": "stream",
     "text": [
      "Pushed Item H; Top-Position now: 0\n",
      "Pushed Item e; Top-Position now: 1\n",
      "Pushed Item l; Top-Position now: 2\n",
      "Pushed Item l; Top-Position now: 3\n",
      "Pushed Item o; Top-Position now: 4\n",
      "o\n",
      "l\n",
      "l\n",
      "e\n",
      "H\n",
      "Yes\n"
     ]
    }
   ],
   "source": [
    "#We are going to store the characters of the str variable li in our stack\n",
    "for i in li: \n",
    "    stack.Push(i)\n",
    "#Now lets take a look at our stack\n",
    "print(stack)\n",
    "if 'l' in stack:\n",
    "    print(\"Yes\") "
   ]
  },
  {
   "cell_type": "markdown",
   "metadata": {},
   "source": [
    "As you can see, the latest character is at the top and the first character (i.e H) is at the buttom"
   ]
  },
  {
   "cell_type": "code",
   "execution_count": 27,
   "metadata": {},
   "outputs": [
    {
     "name": "stdout",
     "output_type": "stream",
     "text": [
      "['l', 'e', 'H']\n"
     ]
    }
   ],
   "source": [
    "#Note, you can display a subset of the stack without removing them like this!\n",
    "print(stack[2:])"
   ]
  },
  {
   "cell_type": "code",
   "execution_count": 17,
   "metadata": {},
   "outputs": [
    {
     "name": "stdout",
     "output_type": "stream",
     "text": [
      "The stack is Full!\n",
      "The top eleement is! o\n",
      "Now, about to push more elements into a full stack, let's see what happens\n"
     ]
    },
    {
     "ename": "stackError",
     "evalue": "Can't push; The Stack is full",
     "output_type": "error",
     "traceback": [
      "\u001b[1;31m---------------------------------------------------------------------------\u001b[0m",
      "\u001b[1;31mstackError\u001b[0m                                Traceback (most recent call last)",
      "Cell \u001b[1;32mIn[17], line 6\u001b[0m\n\u001b[0;32m      4\u001b[0m     \u001b[38;5;28mprint\u001b[39m(\u001b[38;5;124mf\u001b[39m\u001b[38;5;124m'\u001b[39m\u001b[38;5;124mThe top eleement is! \u001b[39m\u001b[38;5;132;01m{\u001b[39;00mstack\u001b[38;5;241m.\u001b[39mPeek()\u001b[38;5;132;01m}\u001b[39;00m\u001b[38;5;124m'\u001b[39m)\n\u001b[0;32m      5\u001b[0m     \u001b[38;5;28mprint\u001b[39m(\u001b[38;5;124m\"\u001b[39m\u001b[38;5;124mNow, about to push more elements into a full stack, let\u001b[39m\u001b[38;5;124m'\u001b[39m\u001b[38;5;124ms see what happens\u001b[39m\u001b[38;5;124m\"\u001b[39m)\n\u001b[1;32m----> 6\u001b[0m     \u001b[43mstack\u001b[49m\u001b[38;5;241;43m.\u001b[39;49m\u001b[43mPush\u001b[49m\u001b[43m(\u001b[49m\u001b[38;5;124;43m'\u001b[39;49m\u001b[38;5;124;43mo\u001b[39;49m\u001b[38;5;124;43m'\u001b[39;49m\u001b[43m)\u001b[49m\n\u001b[0;32m      7\u001b[0m \u001b[38;5;28;01melse\u001b[39;00m:\n\u001b[0;32m      8\u001b[0m     \u001b[38;5;28mprint\u001b[39m(\u001b[38;5;124m'\u001b[39m\u001b[38;5;124mThe stack is not Full!\u001b[39m\u001b[38;5;124m'\u001b[39m)\n",
      "Cell \u001b[1;32mIn[12], line 35\u001b[0m, in \u001b[0;36mSTACK.Push\u001b[1;34m(self, item)\u001b[0m\n\u001b[0;32m     33\u001b[0m     \u001b[38;5;28mprint\u001b[39m(\u001b[38;5;124mf\u001b[39m\u001b[38;5;124m\"\u001b[39m\u001b[38;5;124mPushed Item %s; Top-Position now: %d\u001b[39m\u001b[38;5;124m\"\u001b[39m\u001b[38;5;241m%\u001b[39m(\u001b[38;5;28mstr\u001b[39m(item),\u001b[38;5;28mself\u001b[39m\u001b[38;5;241m.\u001b[39mtop)) \n\u001b[0;32m     34\u001b[0m \u001b[38;5;28;01melse\u001b[39;00m: \u001b[38;5;66;03m#If the stack is full, we are going to raise an error. \u001b[39;00m\n\u001b[1;32m---> 35\u001b[0m     \u001b[38;5;28;01mraise\u001b[39;00m stackError(\u001b[38;5;124m\"\u001b[39m\u001b[38;5;124mCan\u001b[39m\u001b[38;5;124m'\u001b[39m\u001b[38;5;124mt push; The Stack is full\u001b[39m\u001b[38;5;124m\"\u001b[39m)\n",
      "\u001b[1;31mstackError\u001b[0m: Can't push; The Stack is full"
     ]
    }
   ],
   "source": [
    "#Since our stack should be full now, lets check if it's full and then see the top element and maybe try to push one more element into this\n",
    "if stack.CheckFull():\n",
    "    print('The stack is Full!')\n",
    "    print(f'The top eleement is! {stack.Peek()}')\n",
    "    print(\"Now, about to push more elements into a full stack, let's see what happens\")\n",
    "    stack.Push('o')\n",
    "else:\n",
    "    print('The stack is not Full!')"
   ]
  },
  {
   "cell_type": "code",
   "execution_count": 30,
   "metadata": {},
   "outputs": [
    {
     "name": "stdout",
     "output_type": "stream",
     "text": [
      "Popped Item from Stack! Top-Position now: 3\n",
      "Popped Item from Stack! Top-Position now: 2\n",
      "Popped Item from Stack! Top-Position now: 1\n",
      "Popped Item from Stack! Top-Position now: 0\n",
      "Popped Item from Stack! Top-Position now: -1\n",
      "This was the stack : ['o', 'l', 'l', 'e', 'H']\n"
     ]
    }
   ],
   "source": [
    "#Now let's try to completely empty out the stack and display the contents of the stack as we remove them\n",
    "val = []\n",
    "while stack.top > -1:\n",
    "    val.append(stack.Pop())\n",
    "print(f'This was the stack : {val}')"
   ]
  },
  {
   "cell_type": "code",
   "execution_count": 32,
   "metadata": {},
   "outputs": [
    {
     "name": "stdout",
     "output_type": "stream",
     "text": [
      "The stack is empty!\n",
      "Let's try to pop for an empty stack\n"
     ]
    },
    {
     "ename": "stackError",
     "evalue": "Can't pop; Empty Stack",
     "output_type": "error",
     "traceback": [
      "\u001b[1;31m---------------------------------------------------------------------------\u001b[0m",
      "\u001b[1;31mstackError\u001b[0m                                Traceback (most recent call last)",
      "Cell \u001b[1;32mIn[32], line 5\u001b[0m\n\u001b[0;32m      3\u001b[0m     \u001b[38;5;28mprint\u001b[39m(\u001b[38;5;124m\"\u001b[39m\u001b[38;5;124mThe stack is empty!\u001b[39m\u001b[38;5;124m\"\u001b[39m)\n\u001b[0;32m      4\u001b[0m     \u001b[38;5;28mprint\u001b[39m(\u001b[38;5;124m\"\u001b[39m\u001b[38;5;124mLet\u001b[39m\u001b[38;5;124m'\u001b[39m\u001b[38;5;124ms try to pop for an empty stack\u001b[39m\u001b[38;5;124m\"\u001b[39m)\n\u001b[1;32m----> 5\u001b[0m     \u001b[43mstack\u001b[49m\u001b[38;5;241;43m.\u001b[39;49m\u001b[43mPop\u001b[49m\u001b[43m(\u001b[49m\u001b[43m)\u001b[49m\n\u001b[0;32m      6\u001b[0m \u001b[38;5;28;01melse\u001b[39;00m:\n\u001b[0;32m      7\u001b[0m     \u001b[38;5;28mprint\u001b[39m(\u001b[38;5;124m\"\u001b[39m\u001b[38;5;124mThe stack is not empty!\u001b[39m\u001b[38;5;124m\"\u001b[39m)\n",
      "Cell \u001b[1;32mIn[21], line 39\u001b[0m, in \u001b[0;36mSTACK.Pop\u001b[1;34m(self)\u001b[0m\n\u001b[0;32m     37\u001b[0m \u001b[38;5;28;01mdef\u001b[39;00m \u001b[38;5;21mPop\u001b[39m(\u001b[38;5;28mself\u001b[39m): \u001b[38;5;66;03m#Here, lets pop an element from the stack (removing an element from the stack)\u001b[39;00m\n\u001b[0;32m     38\u001b[0m     \u001b[38;5;28;01mif\u001b[39;00m \u001b[38;5;28mself\u001b[39m\u001b[38;5;241m.\u001b[39mCheckEmpty(): \u001b[38;5;66;03m#making sure that the stack isn't empty and if it is, raising an error\u001b[39;00m\n\u001b[1;32m---> 39\u001b[0m         \u001b[38;5;28;01mraise\u001b[39;00m stackError(\u001b[38;5;124m\"\u001b[39m\u001b[38;5;124mCan\u001b[39m\u001b[38;5;124m'\u001b[39m\u001b[38;5;124mt pop; Empty Stack\u001b[39m\u001b[38;5;124m\"\u001b[39m) \n\u001b[0;32m     40\u001b[0m     \u001b[38;5;28;01melse\u001b[39;00m:\n\u001b[0;32m     41\u001b[0m         val \u001b[38;5;241m=\u001b[39m \u001b[38;5;28mself\u001b[39m\u001b[38;5;241m.\u001b[39mstack\u001b[38;5;241m.\u001b[39mpop() \u001b[38;5;66;03m#here, we are removing the right most book for the bookshelf and changing the top variable to track the bookshelf correctly\u001b[39;00m\n",
      "\u001b[1;31mstackError\u001b[0m: Can't pop; Empty Stack"
     ]
    }
   ],
   "source": [
    "#Now that the stack is empty, lets make sure and then try to pop more elements. \n",
    "if stack.CheckEmpty():\n",
    "    print(\"The stack is empty!\")\n",
    "    print(\"Let's try to pop for an empty stack\")\n",
    "    stack.Pop()\n",
    "else:\n",
    "    print(\"The stack is not empty!\")"
   ]
  },
  {
   "cell_type": "markdown",
   "metadata": {},
   "source": [
    "Note, when implementating this on your own (which you should totally do! Try to understand the code and then try to code it up with using just your understanding of your class)\n",
    "\n",
    "You can remove the print statements in your implementation to make it look more professional! \n",
    "\n",
    "Soooo, off you go and try it on your own! You can do it!!!"
   ]
  },
  {
   "cell_type": "markdown",
   "metadata": {},
   "source": [
    "# Queue"
   ]
  },
  {
   "cell_type": "markdown",
   "metadata": {},
   "source": [
    "## What is it? \n",
    "\n",
    "Well, I think queues are pretty self explainatory; It's like standing in line for your starbucks order or waiting for your disney world tickets. The sooner you join the queue, the sooner you will exit the queue. \n",
    "\n",
    "If there are three people on the queue already, the first person have to exit the queue for the 2nd person to take the first person's spot and the 3rd person move to the 2nd person spot and you will move one step closer, thus naming the queues as First In-First Out! \n",
    "\n",
    "Rather than Stack, which has only one point of entry/exit (aka the top of the stack,) the queue have two points like that (one for entry, aka the front of the queue and another for exit, aka the end of the queue.)\n",
    "\n",
    "## What tasks can you do with the queues? \n",
    "\n",
    "Well, everything you can do with stacks, you can also do with queues, but all of them are named differently. Let's see how the names are changed (The functionality is the same, if you don't know what is the functionality of these tasks, better read the stack first ;) )\n",
    "\n",
    "Push -> Enqueue\n",
    "\n",
    "Pop -> Dequeue\n",
    "\n",
    "The other core functionalities like checkempty, checkfull, peek are all named same!\n",
    "\n",
    "## What is queues actually used for? \n",
    "\n",
    "Task managamenet -> When you have a set of computing tasks, they join a queue and each of them will be executed accordingly \n",
    "\n",
    "Buffering data -> In networking, when a rate at which you are sending data is more than the rate of you getting data, you are going to store the data temporarily at the sender's end to match the speed of reading data. So you would use a queue there. (Note: Didn't explain as briefly as we could've. But try to visualize on how this would work)\n",
    "\n",
    "Chat messages in multiplayer games -> I think this is self explaintory. \n",
    "\n",
    "and so so much more. \n",
    "\n",
    "## Now lets get to the implementation!"
   ]
  },
  {
   "cell_type": "code",
   "execution_count": null,
   "metadata": {},
   "outputs": [],
   "source": [
    "#The below is the implementation of queue in Python. Let me explain how it works!\n",
    "\n",
    "class queueError(Exception):\n",
    "    # to handle errors in the class below\n",
    "    pass\n",
    "\n",
    "class QUEUE():\n",
    "    def __init__(self,limit):\n",
    "        self.q=[]\n",
    "        self.limit = limit\n",
    "        self.front = -1\n",
    "        self.rear = -1\n",
    "    # Here, (Hoping you are coming here after the stack lesson) Instead of having top, we're having two different variables named front and rear! I think the variable limit is \n",
    "    # self explaintory.\n",
    "    \n",
    "    # The below two functions are basically the same from the stack class. See if you can figure out the logic behind them!\n",
    "    def CheckEmpty(self):\n",
    "        return len(self.q) == 0\n",
    "    \n",
    "    def CheckFull(self):\n",
    "        return len(self.q) == self.limit\n",
    "    \n",
    "    def EnQ(self,item): # Here, we're getting the item which we're going to include item as a parameter (addding an element)\n",
    "        if not self.CheckFull(): # And making sure that the queue isn't full\n",
    "            if(self.CheckEmpty()): # And if we're enqueuing the first item, then we have to update the front variable as well. \n",
    "                self.front = 0\n",
    "            self.q.append(item) # and we're adding the element to the queue from the rear. \n",
    "            self.rear += 1 # and updating the rear variable as well\n",
    "            print(f\"Enqueued Item: %s at rear position: %s\"%(item,str(self.rear)))\n",
    "        else:\n",
    "             raise queueError(\"Can't Enqueue; The Q is full\")\n",
    "         \n",
    "    def DeQ(self): # Here, we're going to dequeue an element (removing an element)\n",
    "        if not self.CheckEmpty(): #and as usually, making sure that queue is not empty\n",
    "            if(self.front == self.rear): # and checking if we are trying to remove the last element from the queue. \n",
    "                self.front , self.rear = -1,-1 #if so, they we need to reset the rear to -1. \n",
    "            self.q.pop(0)\n",
    "            # Here, we should've added 1 to the front variable right? Because the front variable should track the front of the queue and we just removed an element so, the front should\n",
    "            # move forward right? That's the catch! Since Python automatically shortens the queue list by 1 when popping an element, there is no need to update the front variable as the entire size of our queue is reduced by 1. \n",
    "            # when we should update the front variable is, when the array doesn't shorten but an None/Null value is replacing the front value. Aka when the array size is static. \n",
    "            # Likewise, we got no need to use rear varaible as well as just using len(q) will produce the same results. But we are doing this so that when implementating this \n",
    "            # in other langauges like C/C++, it'll be easier. But Knowing this, we can optimize the queue class even further! Try to figure that out!!!\n",
    "            print(\"Dequeued Item and shifted the Queue forward\")\n",
    "        else:\n",
    "            raise queueError(\"Can't Dequeue; The Q is empty\")\n",
    "        \n",
    "    def Peek(self): #Here, we're just looking at the top element in our queue\n",
    "        if not self.CheckEmpty():\n",
    "            return self.q[self.front]\n",
    "        else:\n",
    "            queueError(\"The queue is empty!\")\n",
    "              \n",
    "    #The below two function are just helper functions which will makes our understanding easier. \n",
    "    def __str__(self):\n",
    "        out = \" <- \".join(str(i) for i in self.q)\n",
    "        return out\n",
    "    \n",
    "    def __getitem__(self, index):\n",
    "        return self.q[index]"
   ]
  },
  {
   "cell_type": "markdown",
   "metadata": {},
   "source": [
    "## Now let's use this Class and see how it works!"
   ]
  },
  {
   "cell_type": "code",
   "execution_count": null,
   "metadata": {},
   "outputs": [],
   "source": [
    "# Creating and displaying the queue\n",
    "q = QUEUE(3)\n",
    "q.EnQ(\"a\")\n",
    "q.EnQ('b')\n",
    "q.EnQ('v')\n",
    "print(q)"
   ]
  },
  {
   "cell_type": "code",
   "execution_count": null,
   "metadata": {},
   "outputs": [],
   "source": [
    "# Removing an element and seeing how the queue is like (displaying the first element of the queue!)\n",
    "q.DeQ()\n",
    "q.Peek()"
   ]
  },
  {
   "cell_type": "code",
   "execution_count": null,
   "metadata": {},
   "outputs": [],
   "source": [
    "# Note, we can have stuff like checking empty and full as how we had with stack and we can display a specific subset of the queue\n",
    "print(q[0])\n",
    "# Moveover, trying to enqueue a full queue or dequeuing an empty queue will result in error as we seen with stacks!"
   ]
  },
  {
   "cell_type": "markdown",
   "metadata": {},
   "source": [
    "Note, when implementating this on your own (which you should totally do! Try to understand the code and then try to code it up with using just your understanding of your class)\n",
    "\n",
    "You can remove the print statements in your implementation to make it look more professional! \n",
    "\n",
    "Soooo, off you go and try it on your own! You can do it!!!"
   ]
  },
  {
   "cell_type": "markdown",
   "metadata": {},
   "source": [
    "## Linked Lists"
   ]
  },
  {
   "cell_type": "markdown",
   "metadata": {},
   "source": [
    "## What is it?\n",
    "\n",
    "Imagine you went to the beach one day and found a map inside of a bottle. When going to the location on the map, you dig up a sack full of gold coins. But that's not all, you also find another map. Now naturally, you go the location in that 2nd map and then find another sack of coins + map. Each time you go to the location in the map, you find a sack of coin + map till the 12th time, which had just the sack of coins alone. This is literally linked lists. \n",
    "\n",
    "The first map is found along without any gold, every other location will have both the sack of gold + map except the final location. The maps point you to the next location while the sack of coins is the valuable part of your excavation. \n",
    "\n",
    "The first map is known as header, the maps you found in each location along with the gold is known as pointers and each pointer will point to the next treasure. Oh, by the way, the treasures are known as the data.\n",
    "\n",
    "You bury the map and the gold together as a whole, which is known as a node! \n",
    "\n",
    "The whole idea of your header pointing to your first node and each pointer inside each node pointing to the next node till the final node doesn't have a pointer is known as linked list. Now, the pirates are also CS Big Brains!\n",
    "\n",
    "## What can you do with them? \n",
    "\n",
    "You can insert a node inside the linked like (in the front, in the back and in the middle) and you can delete a node (in the front, in the back ad in the middle) and finally, you can search for an value in the linked list and that's it! \n",
    "\n",
    "## What are these actually used for in the real world? \n",
    "\n",
    "Well, this data structure is kinda like the underlying DS for implementing various other DS like Hashmaps and so on. As a matter of fact, instead of using Lists (in python) for implementing stack and queues, we can use Linked Lists.\n",
    "\n",
    "Move over, the usecase of Linked lists is pretty much everywhere! \n",
    "\n",
    "## Now lets get to the implementation!"
   ]
  },
  {
   "cell_type": "code",
   "execution_count": 36,
   "metadata": {},
   "outputs": [],
   "source": [
    "#The below is the implementation of Linked List in Python. Let me explain how it works!\n",
    "\n",
    "class Node: \n",
    "    #This is the functionality of a node. Item is your sack of gold and the nextmap is the map that is pointing to the next Node. \n",
    "    def __init__(self, item):\n",
    "        self.item = item\n",
    "        self.nextmap = None\n",
    "\n",
    "class LinkedList:\n",
    "    def __init__(self):\n",
    "        self.head = None #We're setting the header (aka the first map to None) Because when we first insert an value, we'll update this!\n",
    "\n",
    "    def insert(self, item, index=None):\n",
    "        #To insert an value into the linked list, You will give the item and if required, give the index at which you wanna insert as well. If the index is not given, it will insert at the end\n",
    "        #Have Graphics/Icons to explain all of these insert methods. \n",
    "        \n",
    "        if index is None: #If the index paramater is not mentioned, then we'll add the item to the end\n",
    "            if self.head is None: #Checking if the head is empty, (aka the linked list is empty)\n",
    "                self.head = Node(item) #Then we update the header value and create an new node. Since there is no other items, the nextmap of our first node is None. \n",
    "            else: #If there is items in the linked list already, then we're going to find the final value. \n",
    "                current = self.head #this value will the first node. \n",
    "                while current.nextmap: #this will loop till the nextmap of the current node is None.\n",
    "                    current = current.nextmap\n",
    "                current.nextmap = Node(item) #And when the final node's nextmap is None, you are updating that value by our new node. \n",
    "        else: #Here, we're inserting to a specifc index. \n",
    "            if index == 0: #If the value is to be inserted at the start.\n",
    "                new_node = Node(item) #Create the new node\n",
    "                new_node.nextmap = self.head #Assign the new node's map as the current header (aka the first value of the linked list)\n",
    "                self.head = new_node #and finally, update the header value \n",
    "            else:\n",
    "                current = self.head\n",
    "                for i in range(index-1): #Looping to the given index. Our given range here is index-1, why is that? (Because we are checking nextmap of our current node, thus looking one step further at all times)\n",
    "                    if current is None: #If the current turns None before the for loop is done, what does that mean? (It means the given index exceeds the current length of the list)\n",
    "                        raise IndexError(\"Index out of range\")\n",
    "                    current = current.nextmap\n",
    "                new_node = Node(item) #Here we're doing the same ideas as the header but with an element that's in the middel of the list!\n",
    "                new_node.nextmap = current.nextmap\n",
    "                current.nextmap = new_node\n",
    "\n",
    "    def remove(self, index = 0):\n",
    "        #Removing an element from the list. If index is not given, it will remove the first value. \n",
    "        #Now that you seen how the linked list behaves when index parameter is not mentioned in both insert and remove functions. Does it seem similar to any other DS we've seen so far? (Yes, QUEUES)\n",
    "         \n",
    "        if self.head == None: #I think this explains itself ;>\n",
    "            return\n",
    "\n",
    "        temp_head = self.head # we need a temp variable to hold the head for us!\n",
    "        \n",
    "        if index == 0: #If the index is 0, need to remove the first element\n",
    "            self.head = temp_head.nextmap #Take the header and assign it to the 2nd value. \n",
    "            temp_head = None #Cleaning up the deleted node. \n",
    "            return\n",
    "\n",
    "        for i in range(index - 1): #And if any value is given, we're going to loop to that index. \n",
    "            if temp_head is None: #And if it turns None, means the given index exceeds the range of the list, We are breaking it to raise the error below. \n",
    "                break\n",
    "            temp_head = temp_head.nextmap\n",
    "           \n",
    "\n",
    "        if temp_head is None or temp_head.nextmap is None: #And we're raising the error here. This will come in clutch if the given index exceeds the our list's size. \n",
    "            raise IndexError(\"Index out of range\") #We're checking both temp_head and temp_head.nextmap. Why's that? (If the index is far more than list's size, the temp_head will be None. But if we're trying to remove the item at the index of (list's size)+1, the temp_head will have the last item but the nextmap of the temp_head will be None. So that's why!)\n",
    "        \n",
    "        #And now, we just need to swap the values.\n",
    "        next_to_temp = temp_head.nextmap.nextmap\n",
    "        temp_head.nextmap = next_to_temp\n",
    "        next_node = None  #Clean up the removed node\n",
    "\n",
    "\n",
    "    def search(self, item):\n",
    "        #Here, we're going to just look fo an item and then return it's index when the item is present and -1 when the item isn't present. \n",
    "        temp_head = self.head\n",
    "        i=0\n",
    "        \n",
    "        #Looping thru all the items of the nodes. \n",
    "        while temp_head is not None:\n",
    "            if item==temp_head.item: #if found, it will return the item's index, (stored in variable i)\n",
    "                return i \n",
    "            i+=1\n",
    "            temp_head = temp_head.nextmap\n",
    "        return -1 #And if it didn't return in the while loop, it means the item isn't present in the whole list. thus returning -1\n",
    "    \n",
    "    #The below two function are just helper functions which will makes our understanding easier. \n",
    "    def __str__(self,return_list=False):\n",
    "        output = []\n",
    "        temp_head = self.head\n",
    "        while temp_head is not None:\n",
    "            output.append(temp_head.item)\n",
    "            temp_head = temp_head.nextmap\n",
    "        return str(output)[1:-1] if return_list == False else output\n",
    "\n",
    "    def __getitem__(self, index):\n",
    "        return self.__str__(True)[index]\n",
    "    \n",
    "    def __len__(self):\n",
    "        return len(self.__str__(True))"
   ]
  },
  {
   "cell_type": "markdown",
   "metadata": {},
   "source": [
    "## Now let's use this Class and see how it works!"
   ]
  },
  {
   "cell_type": "code",
   "execution_count": 49,
   "metadata": {},
   "outputs": [
    {
     "name": "stdout",
     "output_type": "stream",
     "text": [
      "1, 2, 3, 4\n",
      "1, 2, 5, 3, 4\n",
      "1, 2, 5, 3, 4, 6\n"
     ]
    }
   ],
   "source": [
    "#Let's create the linked list and use the insert function\n",
    "LL = LinkedList()\n",
    "LL.insert(1)\n",
    "LL.insert(2)\n",
    "LL.insert(3)\n",
    "LL.insert(4)\n",
    "print(LL)\n",
    "LL.insert(5,2)\n",
    "print(LL)\n",
    "LL.insert(6, len(LL))\n",
    "print(LL)\n"
   ]
  },
  {
   "cell_type": "code",
   "execution_count": 50,
   "metadata": {},
   "outputs": [
    {
     "name": "stdout",
     "output_type": "stream",
     "text": [
      "6\n",
      "1, 2, 5, 3, 4\n",
      "2, 5, 3, 4\n",
      "2, 3, 4\n"
     ]
    }
   ],
   "source": [
    "#Now lets try to remove stuff from the list\n",
    "print(len(LL))\n",
    "LL.remove(len(LL)-1)\n",
    "print(LL)\n",
    "LL.remove()\n",
    "print(LL)\n",
    "LL.remove(1)\n",
    "print(LL)"
   ]
  },
  {
   "cell_type": "code",
   "execution_count": 53,
   "metadata": {},
   "outputs": [
    {
     "name": "stdout",
     "output_type": "stream",
     "text": [
      "-1\n",
      "1\n",
      "2, 3, 4\n"
     ]
    }
   ],
   "source": [
    "#Now searching functionality!\n",
    "print(LL.search(10))\n",
    "print(LL.search(3))\n",
    "print(LL)"
   ]
  },
  {
   "cell_type": "markdown",
   "metadata": {},
   "source": [
    "Note, when implementating this on your own (which you should totally do! Try to understand the code and then try to code it up with using just your understanding of your class)\n",
    "\n",
    "You can remove the print statements in your implementation to make it look more professional! \n",
    "\n",
    "Soooo, off you go and try it on your own! You can do it!!!"
   ]
  }
 ],
 "metadata": {
  "kernelspec": {
   "display_name": "base",
   "language": "python",
   "name": "python3"
  },
  "language_info": {
   "codemirror_mode": {
    "name": "ipython",
    "version": 3
   },
   "file_extension": ".py",
   "mimetype": "text/x-python",
   "name": "python",
   "nbconvert_exporter": "python",
   "pygments_lexer": "ipython3",
   "version": "3.8.0"
  }
 },
 "nbformat": 4,
 "nbformat_minor": 2
}
